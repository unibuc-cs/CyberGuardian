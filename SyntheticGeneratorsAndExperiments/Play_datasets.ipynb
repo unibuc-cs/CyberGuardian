{
 "cells": [
  {
   "metadata": {},
   "cell_type": "code",
   "outputs": [],
   "execution_count": null,
   "source": "## Modify a csv data with pandas \n",
   "id": "3afd492f01d91b88"
  },
  {
   "cell_type": "code",
   "execution_count": null,
   "id": "c3aadc1d-d69b-4014-8157-99dd6342f92d",
   "metadata": {},
   "outputs": [],
   "source": [
    "from datasets import Dataset, Features, Audio, Image\n",
    "images = [\"sample.gif\"] * 10\n",
    "features = Features({\"image\": Image()})\n",
    "ds = Dataset.from_dict({\"image\": images}, features=features) \n",
    "ds = ds.with_format(\"torch\")\n",
    "print(ds[0][\"image\"].shape)\n",
    "print(ds[0])\n",
    "print(ds[:2][\"image\"].shape)\n",
    "print(ds[:2])\n"
   ]
  },
  {
   "cell_type": "code",
   "execution_count": null,
   "id": "c3119385-a987-4115-96a2-ddac28d08dd5",
   "metadata": {},
   "outputs": [],
   "source": [
    "import numpy as np\n",
    "from datasets import Dataset, load_from_disk\n",
    "from torch.utils.data import DataLoader\n"
   ]
  },
  {
   "cell_type": "code",
   "execution_count": null,
   "id": "cc84e7dc-c8fc-48e6-95f6-481029b43f3d",
   "metadata": {},
   "outputs": [],
   "source": [
    "data = np.random.rand(1000000)\n",
    "Dataset.from_dict({'data':data}).save_to_disk(\"mydataset\")"
   ]
  },
  {
   "cell_type": "code",
   "execution_count": null,
   "id": "293910b1-7f5b-494d-adb4-88b4b4cfc424",
   "metadata": {},
   "outputs": [],
   "source": [
    "ds = load_from_disk(\"mydataset\").with_format(\"torch\")\n",
    "dataloader = DataLoader(ds, batch_size=64, num_workers=4)"
   ]
  },
  {
   "cell_type": "code",
   "execution_count": null,
   "id": "aef97bb6-048b-4bc0-a30d-fd70768a1726",
   "metadata": {},
   "outputs": [],
   "source": [
    "\n",
    "for batch in dataloader:\n",
    "    print(batch)"
   ]
  },
  {
   "cell_type": "code",
   "execution_count": null,
   "id": "0444dccd-9341-40c1-8899-97f65f58b2cc",
   "metadata": {},
   "outputs": [],
   "source": [
    "from datasets import load_dataset\n",
    "ds = load_dataset(\"rotten_tomatoes\", split=\"validation\")\n",
    "#ds.filter(lambda x: x[\"label\"]==1)"
   ]
  },
  {
   "cell_type": "code",
   "execution_count": null,
   "id": "0d97ab40-8548-4065-b73e-a53f543dbf41",
   "metadata": {},
   "outputs": [],
   "source": [
    "ds.shuffle().select(range(20)).to_json()"
   ]
  },
  {
   "cell_type": "code",
   "execution_count": null,
   "id": "c21871ac-3d62-41ac-8391-5c3b14a20c3a",
   "metadata": {},
   "outputs": [],
   "source": [
    "def filter_fn(x):\n",
    "    return True # x[\"label\"] == 1\n",
    "\n",
    "def process_fn(x):\n",
    "    return {'text' : x['text'], 'len' : len(x['text'])}\n",
    "\n",
    "ids = ds.to_iterable_dataset()\n",
    "ids = ids.filter(filter_fn).map(process_fn)"
   ]
  },
  {
   "cell_type": "code",
   "execution_count": null,
   "id": "d29b599f-3b44-4b46-93f5-8d81c4df2a5f",
   "metadata": {},
   "outputs": [],
   "source": [
    "for data in ids:\n",
    "    print(data)"
   ]
  },
  {
   "cell_type": "code",
   "execution_count": null,
   "id": "edaa6611-9d46-4b81-b64d-a2e7992b1969",
   "metadata": {},
   "outputs": [],
   "source": []
  }
 ],
 "metadata": {
  "kernelspec": {
   "display_name": "Python 3 (ipykernel)",
   "language": "python",
   "name": "python3"
  },
  "language_info": {
   "codemirror_mode": {
    "name": "ipython",
    "version": 3
   },
   "file_extension": ".py",
   "mimetype": "text/x-python",
   "name": "python",
   "nbconvert_exporter": "python",
   "pygments_lexer": "ipython3",
   "version": "3.11.7"
  }
 },
 "nbformat": 4,
 "nbformat_minor": 5
}
