{
 "cells": [
  {
   "cell_type": "code",
   "outputs": [
    {
     "name": "stdout",
     "output_type": "stream",
     "text": [
      "    a   b\n",
      "0   1   5\n",
      "1   2   6\n",
      "2   3   7\n",
      "3   4   8\n",
      "4  10  10\n",
      "5  10  10\n"
     ]
    }
   ],
   "source": [
    "import pandas as pd\n",
    " \n",
    "# Creating the first Dataframe using dictionary\n",
    "df1 = df = pd.DataFrame({\"a\": [1, 2, 3, 4],\n",
    "                         \"b\": [5, 6, 7, 8]})\n",
    " \n",
    "# Append Dict as row to DataFrame\n",
    "new_row = {\"a\": 10, \"b\": 10}\n",
    "df2 = pd.concat([df1, pd.DataFrame([new_row])], ignore_index=True)\n",
    "\n",
    "df2.loc[len(df2)] = new_row\n",
    " \n",
    "print(df2)"
   ],
   "metadata": {
    "collapsed": false,
    "ExecuteTime": {
     "end_time": "2024-01-16T10:50:30.397112800Z",
     "start_time": "2024-01-16T10:50:30.351569Z"
    }
   },
   "id": "4d77f1fdd328ee28",
   "execution_count": 18
  },
  {
   "cell_type": "code",
   "outputs": [
    {
     "data": {
      "text/plain": "             IP                   NAME                       DATE  \\\n0  123.45.23.12   WebHelperForShopping   Sun Jan  7 20:14:32 2024   \n1           NaN                    NaN                        NaN   \n2           NaN                    NaN                        NaN   \n3           NaN                    NaN                        NaN   \n4           NaN                    NaN                        NaN   \n\n                    BLOCKED   LIMITED_BANDWIDTH            IP       NAME  \\\n0                       1.0              2000.0           NaN        NaN   \n1                       NaN                 NaN           NaN        NaN   \n2                       NaN                 NaN           NaN        NaN   \n3                       NaN                 NaN           NaN        NaN   \n4                       NaN                 NaN  192.168.1.10  IotDevice   \n\n                        DATE  BLOCKED  \n0                        NaT      NaN  \n1                        NaT      NaN  \n2                        NaT      NaN  \n3                        NaT      NaN  \n4 2024-01-16 12:54:43.057325      1.0  ",
      "text/html": "<div>\n<style scoped>\n    .dataframe tbody tr th:only-of-type {\n        vertical-align: middle;\n    }\n\n    .dataframe tbody tr th {\n        vertical-align: top;\n    }\n\n    .dataframe thead th {\n        text-align: right;\n    }\n</style>\n<table border=\"1\" class=\"dataframe\">\n  <thead>\n    <tr style=\"text-align: right;\">\n      <th></th>\n      <th>IP</th>\n      <th>NAME</th>\n      <th>DATE</th>\n      <th>BLOCKED</th>\n      <th>LIMITED_BANDWIDTH</th>\n      <th>IP</th>\n      <th>NAME</th>\n      <th>DATE</th>\n      <th>BLOCKED</th>\n    </tr>\n  </thead>\n  <tbody>\n    <tr>\n      <th>0</th>\n      <td>123.45.23.12</td>\n      <td>WebHelperForShopping</td>\n      <td>Sun Jan  7 20:14:32 2024</td>\n      <td>1.0</td>\n      <td>2000.0</td>\n      <td>NaN</td>\n      <td>NaN</td>\n      <td>NaT</td>\n      <td>NaN</td>\n    </tr>\n    <tr>\n      <th>1</th>\n      <td>NaN</td>\n      <td>NaN</td>\n      <td>NaN</td>\n      <td>NaN</td>\n      <td>NaN</td>\n      <td>NaN</td>\n      <td>NaN</td>\n      <td>NaT</td>\n      <td>NaN</td>\n    </tr>\n    <tr>\n      <th>2</th>\n      <td>NaN</td>\n      <td>NaN</td>\n      <td>NaN</td>\n      <td>NaN</td>\n      <td>NaN</td>\n      <td>NaN</td>\n      <td>NaN</td>\n      <td>NaT</td>\n      <td>NaN</td>\n    </tr>\n    <tr>\n      <th>3</th>\n      <td>NaN</td>\n      <td>NaN</td>\n      <td>NaN</td>\n      <td>NaN</td>\n      <td>NaN</td>\n      <td>NaN</td>\n      <td>NaN</td>\n      <td>NaT</td>\n      <td>NaN</td>\n    </tr>\n    <tr>\n      <th>4</th>\n      <td>NaN</td>\n      <td>NaN</td>\n      <td>NaN</td>\n      <td>NaN</td>\n      <td>NaN</td>\n      <td>192.168.1.10</td>\n      <td>IotDevice</td>\n      <td>2024-01-16 12:54:43.057325</td>\n      <td>1.0</td>\n    </tr>\n  </tbody>\n</table>\n</div>"
     },
     "execution_count": 23,
     "metadata": {},
     "output_type": "execute_result"
    }
   ],
   "source": [
    "import numpy as np\n",
    "import pandas as pd\n",
    "from sim_iot import START_TIME_HACKING\n",
    "from datetime import datetime\n",
    "df1 = pd.read_csv(\"../data/SmartHome_DDoSSnapshot/FIREWALL_PROCESSES.csv\")\n",
    "new_row = {\"IP\": '192.168.1.10', \"NAME\": 'IotDevice', 'DATE': datetime.now(), 'BLOCKED':1}\n",
    "df1=pd.concat([df1, pd.DataFrame([new_row])], ignore_index=True) \n",
    "df1.head()"
   ],
   "metadata": {
    "collapsed": false,
    "ExecuteTime": {
     "end_time": "2024-01-16T10:54:43.063970800Z",
     "start_time": "2024-01-16T10:54:43.056873700Z"
    }
   },
   "id": "4c815bb29e0debec",
   "execution_count": 23
  },
  {
   "cell_type": "code",
   "outputs": [],
   "source": [
    "import numpy as np\n",
    "import pandas as pd\n",
    "from sim_iot import START_TIME_HACKING\n",
    "df1 = pd.read_csv(\"../RESOURCES_OCCUPANCY_HACKED_False.csv\")\n",
    "df2 = pd.read_csv(\"../RESOURCES_OCCUPANCY_HACKED_True.csv\")\n",
    "\n",
    "np.random.seed(42)\n",
    "#print(df1.head())\n",
    "df1['dataretrieval_occupancy'] = df1['dataretrieval_occupancy'].apply(lambda x: min(0.56, max(max(0.2, np.random.normal()/3), x / (np.random.random() * 5))))\n",
    "df1['dataupdater_occupancy'] = df1['dataupdater_occupancy'].apply(lambda x: min(0.56, max(max(0.2, np.random.normal()/3), x / (np.random.random() * 5))))\n",
    "\n",
    "df2['dataretrieval_occupancy'] = df2['dataretrieval_occupancy'].apply(lambda x: min(1.0, max(max(0.2, np.random.normal()/3), x / (np.random.random() * 5))))\n",
    "df2['dataupdater_occupancy'] = df2['dataupdater_occupancy'].apply(lambda x: min(1.0, max(max(0.2, np.random.normal()/3), x / (np.random.random() * 5))))\n",
    "\n",
    "\n",
    "# loc[df2['time'] > START_TIME_HACKING,\n",
    "mask = df2['time'] > 0\n",
    "df2.loc[mask, 'dataupdater_occupancy'] = df2[mask].apply(lambda row: min(1.0, max(0.35, row.dataupdater_occupancy * (np.random.random() * 5))), axis=1)\n",
    "df2.loc[mask, 'dataretrieval_occupancy'] = df2[mask].apply(lambda row: min(1.0, max(0.35, row.dataupdater_occupancy * (np.random.random() * 5))), axis=1)\n",
    "\n",
    "#print(indicesToHack)\n",
    "#df2['dataretrieval_occupancy'] = min(df2[indicesToHack, 'dataretrieval_occupancy'] * np.random.random() * 5, 1.0)\n",
    "#df2[indicesToHack, 'dataupdater_occupancy'] = min(df2[indicesToHack, 'dataupdater_occupancy'] * np.random.random() * 5, 1.0)\n",
    "#, 'dataretrieval_occupancy']\n",
    "\n",
    "\n",
    "df1.to_csv(f'../good_RESOURCES_OCCUPANCY_HACKED_False.csv', header=True, index=False)\n",
    "df2.to_csv(f'../good_RESOURCES_OCCUPANCY_HACKED_True.csv', header=True, index=False)"
   ],
   "metadata": {
    "collapsed": false,
    "ExecuteTime": {
     "end_time": "2024-01-10T16:29:27.880866100Z",
     "start_time": "2024-01-10T16:29:27.863848Z"
    }
   },
   "id": "f4fecfdb21788154",
   "execution_count": 53
  },
  {
   "cell_type": "code",
   "outputs": [
    {
     "data": {
      "text/plain": "array([37, 38, 39, 40, 41, 42, 43, 44, 45, 46, 47, 48, 49, 50, 51, 52, 53,\n       54, 55, 56, 57, 58, 59, 60, 61, 62, 63, 64, 65, 66, 67, 68, 69, 70,\n       71, 72, 73, 74, 75, 76, 77, 78, 79, 80, 81, 82, 83, 84, 85, 86],\n      dtype=int64)"
     },
     "execution_count": 43,
     "metadata": {},
     "output_type": "execute_result"
    }
   ],
   "source": [
    "np.where(df2['time'] > START_TIME_HACKING)[0]"
   ],
   "metadata": {
    "collapsed": false,
    "ExecuteTime": {
     "end_time": "2024-01-10T16:04:31.300887100Z",
     "start_time": "2024-01-10T16:04:31.292188800Z"
    }
   },
   "id": "9c2546f94fd6e0e",
   "execution_count": 43
  },
  {
   "cell_type": "code",
   "execution_count": 36,
   "id": "initial_id",
   "metadata": {
    "collapsed": true,
    "ExecuteTime": {
     "end_time": "2024-01-10T15:55:21.018512700Z",
     "start_time": "2024-01-10T15:55:21.009592500Z"
    }
   },
   "outputs": [],
   "source": [
    "import pandas as pd\n",
    "from enum import IntEnum\n",
    "from datetime import datetime"
   ]
  },
  {
   "cell_type": "code",
   "outputs": [],
   "source": [
    "class RequestType(IntEnum):\n",
    "    REQ_PUT = 1,\n",
    "    REQ_GET = 2,\n",
    "    REQ_DELETE = 3,\n",
    "    REQ_UPDATE=4\n",
    "    \n",
    "DATABASE_LOGS_columns = [\"ip\", \"long\", \"lat\", \"request_type\", \"request_params\"]\n",
    "DATABASE_LOGS_dtypes = [str, str, str, RequestType, str]\n",
    "\n",
    "d = pd.DataFrame({\"timestamp\":pd.Series(dtype=int),\n",
    "                  \"ip\":pd.Series(dtype='str'),\n",
    "                  \"long\":pd.Series(dtype='str'),\n",
    "                  \"lat\":pd.Series(dtype='str'),\n",
    "                  \"request_type\":pd.Series(dtype=int),\n",
    "                  \"request_params\":str})"
   ],
   "metadata": {
    "collapsed": false,
    "ExecuteTime": {
     "end_time": "2024-01-07T12:00:59.690808300Z",
     "start_time": "2024-01-07T12:00:59.685804500Z"
    }
   },
   "id": "bb395d9529e67765",
   "execution_count": 30
  },
  {
   "cell_type": "code",
   "outputs": [
    {
     "data": {
      "text/plain": "                   timestamp            ip long lat  request_type  \\\n0 2024-01-07 14:00:59.899582  192.168.3.11    A   A             1   \n\n     request_params  \n0  dsadsadsadsadsad  ",
      "text/html": "<div>\n<style scoped>\n    .dataframe tbody tr th:only-of-type {\n        vertical-align: middle;\n    }\n\n    .dataframe tbody tr th {\n        vertical-align: top;\n    }\n\n    .dataframe thead th {\n        text-align: right;\n    }\n</style>\n<table border=\"1\" class=\"dataframe\">\n  <thead>\n    <tr style=\"text-align: right;\">\n      <th></th>\n      <th>timestamp</th>\n      <th>ip</th>\n      <th>long</th>\n      <th>lat</th>\n      <th>request_type</th>\n      <th>request_params</th>\n    </tr>\n  </thead>\n  <tbody>\n    <tr>\n      <th>0</th>\n      <td>2024-01-07 14:00:59.899582</td>\n      <td>192.168.3.11</td>\n      <td>A</td>\n      <td>A</td>\n      <td>1</td>\n      <td>dsadsadsadsadsad</td>\n    </tr>\n  </tbody>\n</table>\n</div>"
     },
     "execution_count": 31,
     "metadata": {},
     "output_type": "execute_result"
    }
   ],
   "source": [
    "#d = d.append({\"ip\": \"192.168.3.11\", \"long\":\"A\", \"lat\":\"A\", \"request_type\":RequestType.REQ_PUT, \"request_params\":\"dsadsadsadsadsad\"}, ignore_index=True)\n",
    "\n",
    "d.loc[len(d)]={\"timestamp\": datetime.now(), \"ip\": \"192.168.3.11\", \"long\":\"A\", \"lat\":\"A\", \"request_type\":RequestType.REQ_PUT, \"request_params\":\"dsadsadsadsadsad\"}\n",
    "\n",
    "\n",
    "d.head()"
   ],
   "metadata": {
    "collapsed": false,
    "ExecuteTime": {
     "end_time": "2024-01-07T12:00:59.906906500Z",
     "start_time": "2024-01-07T12:00:59.900582800Z"
    }
   },
   "id": "53e629ff643b43f0",
   "execution_count": 31
  },
  {
   "cell_type": "code",
   "outputs": [],
   "source": [
    "\n"
   ],
   "metadata": {
    "collapsed": false
   },
   "id": "50a562f0c65d57a3"
  }
 ],
 "metadata": {
  "kernelspec": {
   "display_name": "Python 3",
   "language": "python",
   "name": "python3"
  },
  "language_info": {
   "codemirror_mode": {
    "name": "ipython",
    "version": 2
   },
   "file_extension": ".py",
   "mimetype": "text/x-python",
   "name": "python",
   "nbconvert_exporter": "python",
   "pygments_lexer": "ipython2",
   "version": "2.7.6"
  }
 },
 "nbformat": 4,
 "nbformat_minor": 5
}
