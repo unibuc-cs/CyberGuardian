{
 "cells": [
  {
   "cell_type": "code",
   "execution_count": 20,
   "id": "2ce4203ee6697f8e",
   "metadata": {
    "ExecuteTime": {
     "end_time": "2024-06-20T12:29:49.240480Z",
     "start_time": "2024-06-20T12:28:30.173366Z"
    }
   },
   "outputs": [
    {
     "data": {
      "application/vnd.jupyter.widget-view+json": {
       "model_id": "4ff241d95a3844878b2dfdbf7f55ee91",
       "version_major": 2,
       "version_minor": 0
      },
      "text/plain": [
       "Loading checkpoint shards:   0%|          | 0/4 [00:00<?, ?it/s]"
      ]
     },
     "metadata": {},
     "output_type": "display_data"
    },
    {
     "name": "stderr",
     "output_type": "stream",
     "text": [
      "Special tokens have been added in the vocabulary, make sure the associated word embeddings are fine-tuned or trained.\n"
     ]
    },
    {
     "name": "stdout",
     "output_type": "stream",
     "text": [
      "Prepare model, tokenizer: 6.284 sec.\n"
     ]
    }
   ],
   "source": [
    "\n",
    "# Load a Llama-3-8B instruct \n",
    "import transformers\n",
    "import sys\n",
    "from torch import cuda, bfloat16\n",
    "import torch\n",
    "import transformers\n",
    "from transformers import AutoTokenizer\n",
    "from time import time\n",
    "#import chromadb\n",
    "#from chromadb.config import Settings\n",
    "from langchain.llms import HuggingFacePipeline\n",
    "from langchain.document_loaders import PyPDFLoader\n",
    "from langchain.text_splitter import RecursiveCharacterTextSplitter\n",
    "from langchain.embeddings import HuggingFaceEmbeddings\n",
    "from langchain.chains import RetrievalQA\n",
    "from langchain.vectorstores import Chroma\n",
    "import torch\n",
    "\n",
    "model_id = \"meta-llama/Meta-Llama-3-8B-Instruct\"\n",
    "\n",
    "device = f'cuda:{cuda.current_device()}' if cuda.is_available() else 'cpu'\n",
    "\n",
    "# set quantization configuration to load large model with less GPU memory\n",
    "# this requires the `bitsandbytes` library\n",
    "bnb_config = transformers.BitsAndBytesConfig(\n",
    "    load_in_4bit=True,\n",
    "    bnb_4bit_quant_type='nf4',\n",
    "    bnb_4bit_use_double_quant=True,\n",
    "    bnb_4bit_compute_dtype=bfloat16\n",
    ")\n",
    "\n",
    "time_start = time()\n",
    "model_config = transformers.AutoConfig.from_pretrained(\n",
    "   model_id,\n",
    "    trust_remote_code=True,\n",
    "    #max_new_tokens=1024\n",
    ")\n",
    "model = transformers.AutoModelForCausalLM.from_pretrained(\n",
    "    model_id,\n",
    "    trust_remote_code=True,\n",
    "    config=model_config,\n",
    "    quantization_config=bnb_config,\n",
    "    device_map='auto',\n",
    ")\n",
    "tokenizer = AutoTokenizer.from_pretrained(model_id)\n",
    "time_end = time()\n",
    "print(f\"Prepare model, tokenizer: {round(time_end-time_start, 3)} sec.\")\n",
    "\n",
    "\n"
   ]
  },
  {
   "cell_type": "code",
   "execution_count": 24,
   "id": "deb7bda9",
   "metadata": {},
   "outputs": [
    {
     "name": "stderr",
     "output_type": "stream",
     "text": [
      "Setting `pad_token_id` to `eos_token_id`:128009 for open-end generation.\n"
     ]
    },
    {
     "name": "stdout",
     "output_type": "stream",
     "text": [
      "Prepare pipeline: 0.0 sec.\n"
     ]
    },
    {
     "data": {
      "text/markdown": [
       "\n",
       "\n",
       "**<font color='red'>Question:</font>** Please explain what is EU AI Act.\n",
       "\n",
       "\n",
       "**<font color='green'>Answer:</font>**  The EU AI Act is a proposed regulation aimed at regulating the development, deployment, and use of artificial intelligence (AI) in the European Union. The regulation is intended to ensure that AI systems are developed and used in a way that is safe, transparent, and trustworthy.\n",
       "\n",
       "The EU AI Act proposes a number of measures to achieve these goals, including:\n",
       "\n",
       "1. Mandatory risk assessments: AI developers would be required to conduct risk assessments to identify potential risks associated with their AI systems.\n",
       "2. Transparency requirements: AI systems would be required to provide clear and understandable information about their decision-making processes and the data they use.\n",
       "3. Safety and security requirements: AI systems would be required to meet certain safety and security standards, such as ensuring that they do not pose a risk to human life or national security.\n",
       "4. Liability and accountability: The regulation would establish clear liability and accountability mechanisms for AI developers and users in the event of accidents or harm caused by AI systems.\n",
       "5\n",
       "\n",
       "\n",
       "**<font color='magenta'>Total time:</font>** 7.84 sec."
      ],
      "text/plain": [
       "<IPython.core.display.Markdown object>"
      ]
     },
     "metadata": {},
     "output_type": "display_data"
    }
   ],
   "source": [
    "# Create a query pipeline using transformers and test it!\n",
    "time_start = time()\n",
    "query_pipeline = transformers.pipeline(\n",
    "        \"text-generation\",\n",
    "        model=model,\n",
    "        tokenizer=tokenizer,\n",
    "        torch_dtype=torch.float16,\n",
    "        #max_length=1024,\n",
    "        device_map=\"auto\",)\n",
    "time_end = time()\n",
    "print(f\"Prepare pipeline: {round(time_end-time_start, 3)} sec.\")\n",
    "\n",
    "\n",
    "# Test the model and pipeline \n",
    "def test_model(tokenizer, pipeline, message):\n",
    "    \"\"\"\n",
    "    Perform a query\n",
    "    print the result\n",
    "    Args:\n",
    "        tokenizer: the tokenizer\n",
    "        pipeline: the pipeline\n",
    "        message: the prompt\n",
    "    Returns\n",
    "        None\n",
    "    \"\"\"    \n",
    "    time_start = time()\n",
    "    sequences = pipeline(\n",
    "        message,\n",
    "        do_sample=True,\n",
    "        top_k=10,\n",
    "        num_return_sequences=1,\n",
    "        eos_token_id=tokenizer.eos_token_id,\n",
    "        max_length=200,)\n",
    "    time_end = time()\n",
    "    total_time = f\"{round(time_end-time_start, 3)} sec.\"\n",
    "    \n",
    "    question = sequences[0]['generated_text'][:len(message)]\n",
    "    answer = sequences[0]['generated_text'][len(message):]\n",
    "    \n",
    "    return f\"Question: {question}\\nAnswer: {answer}\\nTotal time: {total_time}\"\n",
    "\n",
    "from IPython.display import display, Markdown\n",
    "def colorize_text(text):\n",
    "    for word, color in zip([\"Reasoning\", \"Question\", \"Answer\", \"Total time\"], [\"blue\", \"red\", \"green\", \"magenta\"]):\n",
    "        text = text.replace(f\"{word}:\", f\"\\n\\n**<font color='{color}'>{word}:</font>**\")\n",
    "    return text\n",
    "\n",
    "response = test_model(tokenizer,\n",
    "                    query_pipeline,\n",
    "                   \"Please explain what is EU AI Act.\")\n",
    "display(Markdown(colorize_text(response)))\n",
    "\n"
   ]
  },
  {
   "cell_type": "code",
   "execution_count": 19,
   "id": "4a01ab0d",
   "metadata": {},
   "outputs": [
    {
     "ename": "ValidationError",
     "evalue": "1 validation error for HuggingFacePipeline\nmax_new_tokens\n  extra fields not permitted (type=value_error.extra)",
     "output_type": "error",
     "traceback": [
      "\u001b[0;31m---------------------------------------------------------------------------\u001b[0m",
      "\u001b[0;31mValidationError\u001b[0m                           Traceback (most recent call last)",
      "Cell \u001b[0;32mIn[19], line 4\u001b[0m\n\u001b[1;32m      1\u001b[0m \u001b[38;5;66;03m# Create and test the HF pipeline\u001b[39;00m\n\u001b[1;32m      2\u001b[0m \u001b[38;5;66;03m# checking again that everything is working fine\u001b[39;00m\n\u001b[0;32m----> 4\u001b[0m query_pipeline_hf \u001b[38;5;241m=\u001b[39m HuggingFacePipeline(pipeline\u001b[38;5;241m=\u001b[39mquery_pipeline, max_new_tokens\u001b[38;5;241m=\u001b[39m\u001b[38;5;241m1024\u001b[39m)\n\u001b[1;32m      6\u001b[0m time_start \u001b[38;5;241m=\u001b[39m time()\n\u001b[1;32m      7\u001b[0m question \u001b[38;5;241m=\u001b[39m \u001b[38;5;124m\"\u001b[39m\u001b[38;5;124mPlease explain what EU AI Act is.\u001b[39m\u001b[38;5;124m\"\u001b[39m\n",
      "File \u001b[0;32m~/anaconda3/lib/python3.11/site-packages/langchain_core/_api/deprecation.py:203\u001b[0m, in \u001b[0;36mdeprecated.<locals>.deprecate.<locals>.finalize.<locals>.warn_if_direct_instance\u001b[0;34m(self, *args, **kwargs)\u001b[0m\n\u001b[1;32m    201\u001b[0m     warned \u001b[38;5;241m=\u001b[39m \u001b[38;5;28;01mTrue\u001b[39;00m\n\u001b[1;32m    202\u001b[0m     emit_warning()\n\u001b[0;32m--> 203\u001b[0m \u001b[38;5;28;01mreturn\u001b[39;00m wrapped(\u001b[38;5;28mself\u001b[39m, \u001b[38;5;241m*\u001b[39margs, \u001b[38;5;241m*\u001b[39m\u001b[38;5;241m*\u001b[39mkwargs)\n",
      "File \u001b[0;32m~/anaconda3/lib/python3.11/site-packages/pydantic/main.py:341\u001b[0m, in \u001b[0;36mpydantic.main.BaseModel.__init__\u001b[0;34m()\u001b[0m\n",
      "\u001b[0;31mValidationError\u001b[0m: 1 validation error for HuggingFacePipeline\nmax_new_tokens\n  extra fields not permitted (type=value_error.extra)"
     ]
    }
   ],
   "source": [
    "# Create and test the HF pipeline\n",
    "# checking again that everything is working fine\n",
    "\n",
    "query_pipeline_hf = HuggingFacePipeline(pipeline=query_pipeline)\n",
    "\n",
    "time_start = time()\n",
    "question = \"Please explain what EU AI Act is.\"\n",
    "response = query_pipeline_hf(prompt=question)\n",
    "time_end = time()\n",
    "total_time = f\"{round(time_end-time_start, 3)} sec.\"\n",
    "full_response =  f\"Question: {question}\\nAnswer: {response}\\nTotal time: {total_time}\"\n",
    "display(Markdown(colorize_text(full_response)))\n"
   ]
  },
  {
   "cell_type": "code",
   "execution_count": 5,
   "id": "4431fa33",
   "metadata": {},
   "outputs": [
    {
     "name": "stderr",
     "output_type": "stream",
     "text": [
      "/home/ciprian/anaconda3/lib/python3.11/site-packages/langchain_core/_api/deprecation.py:139: LangChainDeprecationWarning: The class `HuggingFaceEmbeddings` was deprecated in LangChain 0.2.2 and will be removed in 0.3.0. An updated version of the class exists in the langchain-huggingface package and should be used instead. To use it run `pip install -U langchain-huggingface` and import as `from langchain_huggingface import HuggingFaceEmbeddings`.\n",
      "  warn_deprecated(\n"
     ]
    }
   ],
   "source": [
    "# Create a database of knowledge with ChromaDB and PyPDF Loader \n",
    "loader = PyPDFLoader(\"./aiact_final_draft.pdf\")\n",
    "documents = loader.load()\n",
    "\n",
    "# Chunk overlapping is required in order to be able to keep the context, even if we have a concept that we want to include that is spread over multiple document chunks.\n",
    "text_splitter = RecursiveCharacterTextSplitter(chunk_size=1000, chunk_overlap=100)\n",
    "all_splits = text_splitter.split_documents(documents)\n",
    "\n",
    "model_name = \"sentence-transformers/all-mpnet-base-v2\"\n",
    "model_kwargs = {\"device\": \"cuda\"}\n",
    "# try to access the sentence transformers from HuggingFace: https://huggingface.co/api/models/sentence-transformers/all-mpnet-base-v2\n",
    "try:\n",
    "    embeddings = HuggingFaceEmbeddings(model_name=model_name, model_kwargs=model_kwargs)\n",
    "except Exception as ex:\n",
    "    print(\"Exception: \", ex)\n",
    "    # alternatively, we will access the embeddings models locally\n",
    "    local_model_path = \"/kaggle/input/sentence-transformers/minilm-l6-v2/all-MiniLM-L6-v2\"\n",
    "    print(f\"Use alternative (local) model: {local_model_path}\\n\")\n",
    "\n",
    "    embeddings = HuggingFaceEmbeddings(model_name=local_model_path, model_kwargs=model_kwargs)\n",
    "    \n",
    "vectordb = Chroma.from_documents(documents=all_splits, embedding=embeddings, persist_directory=\"chroma_db\")"
   ]
  },
  {
   "cell_type": "code",
   "execution_count": 6,
   "id": "fa8e7024",
   "metadata": {},
   "outputs": [
    {
     "name": "stderr",
     "output_type": "stream",
     "text": [
      "/home/ciprian/anaconda3/lib/python3.11/site-packages/langchain_core/_api/deprecation.py:139: LangChainDeprecationWarning: The method `Chain.run` was deprecated in langchain 0.1.0 and will be removed in 0.3.0. Use invoke instead.\n",
      "  warn_deprecated(\n",
      "Setting `pad_token_id` to `eos_token_id`:128001 for open-end generation.\n"
     ]
    },
    {
     "name": "stdout",
     "output_type": "stream",
     "text": [
      "\n",
      "\n",
      "\u001b[1m> Entering new RetrievalQA chain...\u001b[0m\n",
      "\n",
      "\u001b[1m> Finished chain.\u001b[0m\n"
     ]
    },
    {
     "data": {
      "text/markdown": [
       "\n",
       "\n",
       "**<font color='red'>Question:</font>** How is performed the testing of high-risk AI systems in real world conditions?\n",
       "\n",
       "\n",
       "**<font color='green'>Answer:</font>** Use the following pieces of context to answer the question at the end. If you don't know the answer, just say that you don't know, don't try to make up an answer.\n",
       "\n",
       "interaction between the AI system and the environment within which it operates. The \n",
       "risk-management system should adopt the most appropriate risk-management measures \n",
       "in light of the state of the art in AI. When identifying the most appropriate risk-\n",
       "management measures, the provider should document and explain the choices made \n",
       "and, when relevant, involve experts and external stakeholders. In identifying the \n",
       "reasonably foreseeable misuse of high-risk AI systems, the provider should cover uses of \n",
       "AI systems which, while not directly covered by the intended purpose and provided for in \n",
       "the instruction for use may nevertheless be reasonably expected to result from readily \n",
       "predictable human behaviour in the context of the specific characteristics and use of a \n",
       "particular AI system.\n",
       "\n",
       "interaction between the AI system and the environment within which it operates. The \n",
       "risk-management system should adopt the most appropriate risk-management measures \n",
       "in light of the state of the art in AI. When identifying the most appropriate risk-\n",
       "management measures, the provider should document and explain the choices made \n",
       "and, when relevant, involve experts and external stakeholders. In identifying the \n",
       "reasonably foreseeable misuse of high-risk AI systems, the provider should cover uses of \n",
       "AI systems which, while not directly covered by the intended purpose and provided for in \n",
       "the instruction for use may nevertheless be reasonably expected to result from readily \n",
       "predictable human behaviour in the context of the specific characteristics and use of a \n",
       "particular AI system.\n",
       "\n",
       "interaction between the AI system and the environment within which it operates. The \n",
       "risk-management system should adopt the most appropriate risk-management measures \n",
       "in light of the state of the art in AI. When identifying the most appropriate risk-\n",
       "management measures, the provider should document and explain the choices made \n",
       "and, when relevant, involve experts and external stakeholders. In identifying the \n",
       "reasonably foreseeable misuse of high-risk AI systems, the provider should cover uses of \n",
       "AI systems which, while not directly covered by the intended purpose and provided for in \n",
       "the instruction for use may nevertheless be reasonably expected to result from readily \n",
       "predictable human behaviour in the context of the specific characteristics and use of a \n",
       "particular AI system.\n",
       "\n",
       "ENUnited in diversityENANNEX IX\n",
       "Information to be submitted upon the registration of high-risk AI systems listed in Annex III in \n",
       "relation to testing in real world conditions in accordance with Article 60\n",
       "The following information shall be provided and thereafter kept up to date with regard to testing \n",
       "in real world conditions to be registered in accordance with Article 60:\n",
       "1. A Union-wide unique single identification number of the testing in real world \n",
       "conditions;\n",
       "2. The name and contact details of the provider or prospective provider and of the \n",
       "deployers involved in the testing in real world conditions;\n",
       "3. A brief description of the AI system, its intended purpose, and other information \n",
       "necessary for the identification of the system;\n",
       "4. A summary of the main characteristics of the plan for testing in real world conditions;\n",
       "5. Information on the suspension or termination of the testing in real world conditions.\n",
       "\n",
       "\n",
       "\n",
       "**<font color='red'>Question:</font>** How is performed the testing of high-risk AI systems in real world conditions?\n",
       "Helpful \n",
       "\n",
       "**<font color='green'>Answer:</font>** The testing of high-risk AI systems in real world conditions is performed by the provider or prospective provider and the deployers involved in the testing. The provider or prospective provider and the deployers must provide information such as the name and contact details, a brief description of the AI system, its intended purpose, and other necessary information for the identification of the system. The provider or prospective provider and the deployers must also provide a summary of the main characteristics of the plan for testing in real world conditions and information on the suspension or termination of the testing in real world conditions. The testing in real world conditions must be registered in accordance with Article 60.\n",
       "\n",
       "\n",
       "**<font color='magenta'>Total time:</font>** 5.165 sec."
      ],
      "text/plain": [
       "<IPython.core.display.Markdown object>"
      ]
     },
     "metadata": {},
     "output_type": "display_data"
    }
   ],
   "source": [
    "# Create and test a Retrieval QA chain with with plain code and test it\n",
    "retriever = vectordb.as_retriever()\n",
    "\n",
    "qa_chain = RetrievalQA.from_chain_type(\n",
    "    llm=query_pipeline_hf, \n",
    "    chain_type=\"stuff\", \n",
    "    retriever=retriever, \n",
    "    verbose=True\n",
    ")\n",
    "\n",
    "def test_rag(qa_chain, query):\n",
    "    time_start = time()\n",
    "    response = qa_chain.run(query)\n",
    "    time_end = time()\n",
    "    total_time = f\"{round(time_end-time_start, 3)} sec.\"\n",
    "\n",
    "    full_response =  f\"Question: {query}\\nAnswer: {response}\\nTotal time: {total_time}\"\n",
    "    display(Markdown(colorize_text(full_response)))\n",
    "    \n",
    "query = \"How is performed the testing of high-risk AI systems in real world conditions?\"\n",
    "test_rag(qa_chain, query)"
   ]
  },
  {
   "cell_type": "code",
   "execution_count": 7,
   "id": "6178d467",
   "metadata": {},
   "outputs": [
    {
     "name": "stderr",
     "output_type": "stream",
     "text": [
      "Setting `pad_token_id` to `eos_token_id`:128001 for open-end generation.\n"
     ]
    },
    {
     "name": "stdout",
     "output_type": "stream",
     "text": [
      "\n",
      "\n",
      "\u001b[1m> Entering new RetrievalQA chain...\u001b[0m\n",
      "\n",
      "\u001b[1m> Finished chain.\u001b[0m\n"
     ]
    },
    {
     "data": {
      "text/markdown": [
       "\n",
       "\n",
       "**<font color='red'>Question:</font>** What are the operational obligations of notified bodies?\n",
       "\n",
       "\n",
       "**<font color='green'>Answer:</font>** Use the following pieces of context to answer the question at the end. If you don't know the answer, just say that you don't know, don't try to make up an answer.\n",
       "\n",
       "ENUnited in diversityEN5. Where objections are raised, the Commission shall, without delay, enter into \n",
       "consultations with the relevant Member States and the conformity assessment body. In \n",
       "view thereof, the Commission shall decide whether the authorisation is justified. The \n",
       "Commission shall address its decision to the Member State concerned and to the relevant \n",
       "conformity assessment body.\n",
       "▌\n",
       "Article 31\n",
       "Requirements relating to notified bodies\n",
       "1.A notified body shall be established under the national law of a Member State and shall \n",
       "have legal personality.\n",
       "2. Notified bodies shall satisfy the organisational, quality management, resources and process \n",
       "requirements that are necessary to fulfil their tasks, as well as suitable cybersecurity \n",
       "requirements.\n",
       "3. The organisational structure, allocation of responsibilities, reporting lines and operation of \n",
       "notified bodies shall ensure confidence in their performance, and in the results of the\n",
       "\n",
       "ENUnited in diversityEN5. Where objections are raised, the Commission shall, without delay, enter into \n",
       "consultations with the relevant Member States and the conformity assessment body. In \n",
       "view thereof, the Commission shall decide whether the authorisation is justified. The \n",
       "Commission shall address its decision to the Member State concerned and to the relevant \n",
       "conformity assessment body.\n",
       "▌\n",
       "Article 31\n",
       "Requirements relating to notified bodies\n",
       "1.A notified body shall be established under the national law of a Member State and shall \n",
       "have legal personality.\n",
       "2. Notified bodies shall satisfy the organisational, quality management, resources and process \n",
       "requirements that are necessary to fulfil their tasks, as well as suitable cybersecurity \n",
       "requirements.\n",
       "3. The organisational structure, allocation of responsibilities, reporting lines and operation of \n",
       "notified bodies shall ensure confidence in their performance, and in the results of the\n",
       "\n",
       "ENUnited in diversityEN5. Where objections are raised, the Commission shall, without delay, enter into \n",
       "consultations with the relevant Member States and the conformity assessment body. In \n",
       "view thereof, the Commission shall decide whether the authorisation is justified. The \n",
       "Commission shall address its decision to the Member State concerned and to the relevant \n",
       "conformity assessment body.\n",
       "▌\n",
       "Article 31\n",
       "Requirements relating to notified bodies\n",
       "1.A notified body shall be established under the national law of a Member State and shall \n",
       "have legal personality.\n",
       "2. Notified bodies shall satisfy the organisational, quality management, resources and process \n",
       "requirements that are necessary to fulfil their tasks, as well as suitable cybersecurity \n",
       "requirements.\n",
       "3. The organisational structure, allocation of responsibilities, reporting lines and operation of \n",
       "notified bodies shall ensure confidence in their performance, and in the results of the\n",
       "\n",
       "ENUnited in diversityENArticle 45\n",
       "Information obligations of notified bodies\n",
       "1. Notified bodies shall inform the notifying authority of the following: \n",
       "(a) any Union technical documentation assessment certificates, any supplements to those \n",
       "certificates, and any quality management system approvals issued in accordance with \n",
       "the requirements of Annex VII;\n",
       "(b) any refusal, restriction, suspension or withdrawal of a Union technical \n",
       "documentation assessment certificate or a quality management system approval \n",
       "issued in accordance with the requirements of Annex VII;\n",
       "(c) any circumstances affecting the scope of or conditions for notification;\n",
       "(d) any request for information which they have received from market surveillance \n",
       "authorities regarding conformity assessment activities;\n",
       "(e) on request, conformity assessment activities performed within the scope of their \n",
       "notification and any other activity performed, including cross-border activities and \n",
       "subcontracting.\n",
       "\n",
       "\n",
       "\n",
       "**<font color='red'>Question:</font>** What are the operational obligations of notified bodies?\n",
       "Helpful \n",
       "\n",
       "**<font color='green'>Answer:</font>** According to Article 31 of the EU Regulation, notified bodies must satisfy organisational, quality management, resources and process requirements that are necessary to fulfil their tasks, as well as suitable cybersecurity requirements. Additionally, Article 45 outlines their information obligations, such as informing the notifying authority of any changes, refusals, or withdrawals of certifications, and providing information on conformity assessment activities. However, the operational obligations of notified bodies are not explicitly stated in the provided context. If you need further information, please let me know!ENUnited in diversityEN5. Where objections are raised, the Commission shall, without delay, enter into \n",
       "consultations with the relevant Member States and the conformity assessment body. In \n",
       "view thereof, the Commission shall decide whether the authorisation is justified. The \n",
       "Commission shall address its decision to the Member State concerned and to the relevant \n",
       "conformity assessment body.\n",
       "▌\n",
       "Article 31\n",
       "Requirements relating to notified bodies\n",
       "1.A notified body shall be established under the national law of a Member State and shall \n",
       "have legal personality.\n",
       "2. Notified bodies shall satisfy the organisational, quality management, resources and process \n",
       "requirements that are necessary to fulfil their tasks, as well as suitable cybersecurity \n",
       "requirements.\n",
       "3. The organisational structure, allocation of responsibilities, reporting lines and operation of \n",
       "notified bodies shall ensure confidence\n",
       "\n",
       "\n",
       "**<font color='magenta'>Total time:</font>** 10.622 sec."
      ],
      "text/plain": [
       "<IPython.core.display.Markdown object>"
      ]
     },
     "metadata": {},
     "output_type": "display_data"
    }
   ],
   "source": [
    "query = \"What are the operational obligations of notified bodies?\"\n",
    "test_rag(qa_chain, query)"
   ]
  },
  {
   "cell_type": "code",
   "execution_count": 8,
   "id": "38f48d3f",
   "metadata": {},
   "outputs": [
    {
     "name": "stdout",
     "output_type": "stream",
     "text": [
      "Query: What are the operational obligations of notified bodies?\n",
      "Retrieved documents: 4\n",
      "Source:  ./aiact_final_draft.pdf\n",
      "Text:  ENUnited in diversityEN5. Where objections are raised, the Commission shall, without delay, enter into \n",
      "consultations with the relevant Member States and the conformity assessment body. In \n",
      "view thereof, the Commission shall decide whether the authorisation is justified. The \n",
      "Commission shall address its decision to the Member State concerned and to the relevant \n",
      "conformity assessment body.\n",
      "▌\n",
      "Article 31\n",
      "Requirements relating to notified bodies\n",
      "1.A notified body shall be established under the national law of a Member State and shall \n",
      "have legal personality.\n",
      "2. Notified bodies shall satisfy the organisational, quality management, resources and process \n",
      "requirements that are necessary to fulfil their tasks, as well as suitable cybersecurity \n",
      "requirements.\n",
      "3. The organisational structure, allocation of responsibilities, reporting lines and operation of \n",
      "notified bodies shall ensure confidence in their performance, and in the results of the \n",
      "\n",
      "Source:  ./aiact_final_draft.pdf\n",
      "Text:  ENUnited in diversityEN5. Where objections are raised, the Commission shall, without delay, enter into \n",
      "consultations with the relevant Member States and the conformity assessment body. In \n",
      "view thereof, the Commission shall decide whether the authorisation is justified. The \n",
      "Commission shall address its decision to the Member State concerned and to the relevant \n",
      "conformity assessment body.\n",
      "▌\n",
      "Article 31\n",
      "Requirements relating to notified bodies\n",
      "1.A notified body shall be established under the national law of a Member State and shall \n",
      "have legal personality.\n",
      "2. Notified bodies shall satisfy the organisational, quality management, resources and process \n",
      "requirements that are necessary to fulfil their tasks, as well as suitable cybersecurity \n",
      "requirements.\n",
      "3. The organisational structure, allocation of responsibilities, reporting lines and operation of \n",
      "notified bodies shall ensure confidence in their performance, and in the results of the \n",
      "\n",
      "Source:  ./aiact_final_draft.pdf\n",
      "Text:  ENUnited in diversityEN5. Where objections are raised, the Commission shall, without delay, enter into \n",
      "consultations with the relevant Member States and the conformity assessment body. In \n",
      "view thereof, the Commission shall decide whether the authorisation is justified. The \n",
      "Commission shall address its decision to the Member State concerned and to the relevant \n",
      "conformity assessment body.\n",
      "▌\n",
      "Article 31\n",
      "Requirements relating to notified bodies\n",
      "1.A notified body shall be established under the national law of a Member State and shall \n",
      "have legal personality.\n",
      "2. Notified bodies shall satisfy the organisational, quality management, resources and process \n",
      "requirements that are necessary to fulfil their tasks, as well as suitable cybersecurity \n",
      "requirements.\n",
      "3. The organisational structure, allocation of responsibilities, reporting lines and operation of \n",
      "notified bodies shall ensure confidence in their performance, and in the results of the \n",
      "\n",
      "Source:  ./aiact_final_draft.pdf\n",
      "Text:  ENUnited in diversityENArticle 45\n",
      "Information obligations of notified bodies\n",
      "1. Notified bodies shall inform the notifying authority of the following: \n",
      "(a) any Union technical documentation assessment certificates, any supplements to those \n",
      "certificates, and any quality management system approvals issued in accordance with \n",
      "the requirements of Annex VII;\n",
      "(b) any refusal, restriction, suspension or withdrawal of a Union technical \n",
      "documentation assessment certificate or a quality management system approval \n",
      "issued in accordance with the requirements of Annex VII;\n",
      "(c) any circumstances affecting the scope of or conditions for notification;\n",
      "(d) any request for information which they have received from market surveillance \n",
      "authorities regarding conformity assessment activities;\n",
      "(e) on request, conformity assessment activities performed within the scope of their \n",
      "notification and any other activity performed, including cross-border activities and \n",
      "subcontracting. \n",
      "\n"
     ]
    }
   ],
   "source": [
    "# Check the document sources for the last query\n",
    "docs = vectordb.similarity_search(query)\n",
    "print(f\"Query: {query}\")\n",
    "print(f\"Retrieved documents: {len(docs)}\")\n",
    "for doc in docs:\n",
    "    doc_details = doc.to_json()['kwargs']\n",
    "    print(\"Source: \", doc_details['metadata']['source'])\n",
    "    print(\"Text: \", doc_details['page_content'], \"\\n\")"
   ]
  },
  {
   "cell_type": "markdown",
   "id": "1a46ab34",
   "metadata": {},
   "source": [
    "### Tracing (optional)"
   ]
  },
  {
   "cell_type": "code",
   "execution_count": 26,
   "id": "333cbcf4",
   "metadata": {
    "ExecuteTime": {
     "end_time": "2024-06-20T14:45:48.611947Z",
     "start_time": "2024-06-20T14:45:48.609670Z"
    }
   },
   "outputs": [],
   "source": [
    "import os\n",
    "\n",
    "os.environ[\"LANGCHAIN_TRACING_V2\"] = \"true\"\n",
    "os.environ[\"LANGCHAIN_ENDPOINT\"] = \"https://api.smith.langchain.com\"\n",
    "os.environ[\"LANGCHAIN_API_KEY\"] = \"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\""
   ]
  },
  {
   "cell_type": "code",
   "execution_count": null,
   "id": "096edbdb",
   "metadata": {},
   "outputs": [
    {
     "data": {
      "application/vnd.jupyter.widget-view+json": {
       "model_id": "4ff241d95a3844878b2dfdbf7f55ee91",
       "version_major": 2,
       "version_minor": 0
      },
      "text/plain": [
       "Loading checkpoint shards:   0%|          | 0/4 [00:00<?, ?it/s]"
      ]
     },
     "metadata": {},
     "output_type": "display_data"
    },
    {
     "name": "stderr",
     "output_type": "stream",
     "text": [
      "Special tokens have been added in the vocabulary, make sure the associated word embeddings are fine-tuned or trained.\n"
     ]
    },
    {
     "name": "stdout",
     "output_type": "stream",
     "text": [
      "Prepare model, tokenizer: 6.284 sec.\n"
     ]
    }
   ],
   "source": [
    "\n",
    "# Load a Llama-3-8B instruct \n",
    "import transformers\n",
    "import sys\n",
    "from torch import cuda, bfloat16\n",
    "import torch\n",
    "import transformers\n",
    "from transformers import AutoTokenizer\n",
    "from time import time\n",
    "#import chromadb\n",
    "#from chromadb.config import Settings\n",
    "from langchain.llms import HuggingFacePipeline\n",
    "from langchain.document_loaders import PyPDFLoader\n",
    "from langchain.text_splitter import RecursiveCharacterTextSplitter\n",
    "from langchain.embeddings import HuggingFaceEmbeddings\n",
    "from langchain.chains import RetrievalQA\n",
    "from langchain.vectorstores import Chroma\n",
    "import torch\n",
    "\n",
    "model_id = \"meta-llama/Meta-Llama-3-8B-Instruct\"\n",
    "\n",
    "device = f'cuda:{cuda.current_device()}' if cuda.is_available() else 'cpu'\n",
    "\n",
    "# set quantization configuration to load large model with less GPU memory\n",
    "# this requires the `bitsandbytes` library\n",
    "bnb_config = transformers.BitsAndBytesConfig(\n",
    "    load_in_4bit=True,\n",
    "    bnb_4bit_quant_type='nf4',\n",
    "    bnb_4bit_use_double_quant=True,\n",
    "    bnb_4bit_compute_dtype=bfloat16\n",
    ")\n",
    "\n",
    "time_start = time()\n",
    "model_config = transformers.AutoConfig.from_pretrained(\n",
    "   model_id,\n",
    "    trust_remote_code=True,\n",
    "    #max_new_tokens=1024\n",
    ")\n",
    "model = transformers.AutoModelForCausalLM.from_pretrained(\n",
    "    model_id,\n",
    "    trust_remote_code=True,\n",
    "    config=model_config,\n",
    "    quantization_config=bnb_config,\n",
    "    device_map='auto',\n",
    ")\n",
    "tokenizer = AutoTokenizer.from_pretrained(model_id)\n",
    "time_end = time()\n",
    "print(f\"Prepare model, tokenizer: {round(time_end-time_start, 3)} sec.\")\n",
    "\n",
    "\n"
   ]
  },
  {
   "cell_type": "code",
   "execution_count": null,
   "id": "31b34dcc",
   "metadata": {},
   "outputs": [
    {
     "name": "stderr",
     "output_type": "stream",
     "text": [
      "Setting `pad_token_id` to `eos_token_id`:128009 for open-end generation.\n"
     ]
    },
    {
     "name": "stdout",
     "output_type": "stream",
     "text": [
      "Prepare pipeline: 0.0 sec.\n"
     ]
    },
    {
     "data": {
      "text/markdown": [
       "\n",
       "\n",
       "**<font color='red'>Question:</font>** Please explain what is EU AI Act.\n",
       "\n",
       "\n",
       "**<font color='green'>Answer:</font>**  The EU AI Act is a proposed regulation aimed at regulating the development, deployment, and use of artificial intelligence (AI) in the European Union. The regulation is intended to ensure that AI systems are developed and used in a way that is safe, transparent, and trustworthy.\n",
       "\n",
       "The EU AI Act proposes a number of measures to achieve these goals, including:\n",
       "\n",
       "1. Mandatory risk assessments: AI developers would be required to conduct risk assessments to identify potential risks associated with their AI systems.\n",
       "2. Transparency requirements: AI systems would be required to provide clear and understandable information about their decision-making processes and the data they use.\n",
       "3. Safety and security requirements: AI systems would be required to meet certain safety and security standards, such as ensuring that they do not pose a risk to human life or national security.\n",
       "4. Liability and accountability: The regulation would establish clear liability and accountability mechanisms for AI developers and users in the event of accidents or harm caused by AI systems.\n",
       "5\n",
       "\n",
       "\n",
       "**<font color='magenta'>Total time:</font>** 7.84 sec."
      ],
      "text/plain": [
       "<IPython.core.display.Markdown object>"
      ]
     },
     "metadata": {},
     "output_type": "display_data"
    }
   ],
   "source": [
    "# Create a query pipeline using transformers and test it!\n",
    "time_start = time()\n",
    "query_pipeline = transformers.pipeline(\n",
    "        \"text-generation\",\n",
    "        model=model,\n",
    "        tokenizer=tokenizer,\n",
    "        torch_dtype=torch.float16,\n",
    "        #max_length=1024,\n",
    "        device_map=\"auto\",)\n",
    "time_end = time()\n",
    "print(f\"Prepare pipeline: {round(time_end-time_start, 3)} sec.\")\n",
    "\n",
    "\n",
    "# Test the model and pipeline \n",
    "def test_model(tokenizer, pipeline, message):\n",
    "    \"\"\"\n",
    "    Perform a query\n",
    "    print the result\n",
    "    Args:\n",
    "        tokenizer: the tokenizer\n",
    "        pipeline: the pipeline\n",
    "        message: the prompt\n",
    "    Returns\n",
    "        None\n",
    "    \"\"\"    \n",
    "    time_start = time()\n",
    "    sequences = pipeline(\n",
    "        message,\n",
    "        do_sample=True,\n",
    "        top_k=10,\n",
    "        num_return_sequences=1,\n",
    "        eos_token_id=tokenizer.eos_token_id,\n",
    "        max_length=200,)\n",
    "    time_end = time()\n",
    "    total_time = f\"{round(time_end-time_start, 3)} sec.\"\n",
    "    \n",
    "    question = sequences[0]['generated_text'][:len(message)]\n",
    "    answer = sequences[0]['generated_text'][len(message):]\n",
    "    \n",
    "    return f\"Question: {question}\\nAnswer: {answer}\\nTotal time: {total_time}\"\n",
    "\n",
    "from IPython.display import display, Markdown\n",
    "def colorize_text(text):\n",
    "    for word, color in zip([\"Reasoning\", \"Question\", \"Answer\", \"Total time\"], [\"blue\", \"red\", \"green\", \"magenta\"]):\n",
    "        text = text.replace(f\"{word}:\", f\"\\n\\n**<font color='{color}'>{word}:</font>**\")\n",
    "    return text\n",
    "\n",
    "response = test_model(tokenizer,\n",
    "                    query_pipeline,\n",
    "                   \"Please explain what is EU AI Act.\")\n",
    "display(Markdown(colorize_text(response)))\n",
    "\n"
   ]
  }
 ],
 "metadata": {
  "kernelspec": {
   "display_name": "Python 3 (ipykernel)",
   "language": "python",
   "name": "python3"
  },
  "language_info": {
   "codemirror_mode": {
    "name": "ipython",
    "version": 3
   },
   "file_extension": ".py",
   "mimetype": "text/x-python",
   "name": "python",
   "nbconvert_exporter": "python",
   "pygments_lexer": "ipython3",
   "version": "3.11.7"
  }
 },
 "nbformat": 4,
 "nbformat_minor": 5
}
