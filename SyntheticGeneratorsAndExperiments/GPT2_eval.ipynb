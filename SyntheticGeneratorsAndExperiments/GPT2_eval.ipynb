{
 "cells": [
  {
   "cell_type": "code",
   "execution_count": null,
   "id": "9e0d4415-577f-4707-bbe9-9bc741f8918b",
   "metadata": {},
   "outputs": [],
   "source": []
  },
  {
   "cell_type": "code",
   "execution_count": null,
   "id": "96bf4aa4-5ecc-4106-857d-33185dd49ee7",
   "metadata": {},
   "outputs": [],
   "source": []
  },
  {
   "cell_type": "code",
   "execution_count": 6,
   "id": "15615bcc-f619-4a80-9714-2acacdbaa469",
   "metadata": {},
   "outputs": [
    {
     "name": "stdout",
     "output_type": "stream",
     "text": [
      "{'arg1': 100, 'arg2': 200}\n"
     ]
    }
   ],
   "source": [
    "import threading\n",
    "\n",
    "def test_func(arg1):\n",
    "    print(arg1)\n",
    "\n",
    "my_dict = {'arg1': 100, 'arg2': 200}\n",
    "t = threading.Thread(target=test_func, args=(my_dict,))\n",
    "t.start()\n",
    "t.join()\n"
   ]
  },
  {
   "cell_type": "code",
   "execution_count": 4,
   "id": "d3f90905-088c-45f9-99e9-20c09f41cb42",
   "metadata": {},
   "outputs": [
    {
     "name": "stderr",
     "output_type": "stream",
     "text": [
      "Setting `pad_token_id` to `eos_token_id`:50256 for open-end generation.\n"
     ]
    },
    {
     "data": {
      "text/plain": [
       "[{'generated_text': \"Hello, I'm a language model, but what I'm really doing is making a human-readable document. There are other languages, but those are the ones I like the most. To do your research, please contact me, this isn't your first foray into language modeling. We are very happy that you can still be of help.\\n\\nI will be trying to make each project up to date by using both open source libraries and open source documents from open source. For example, I am also using OpenCV to convert open source document formats to JavaScript in Python, and JARs and HTML to PNG, but I will not be writing a new language with any existing documentation, but the one to show you.\\n\\nDonate anything, and stay with the project. Please help me write more projects at http://pinkie.org/\"},\n",
       " {'generated_text': 'Hello, I\\'m a language model, not a syntax model. That\\'s why I like it. I\\'ve done a lot of programming projects.\\n\\nBut my job as a C programmer is to sort through every single line of the script so I can make sure every line is just as important as it was in the moment. So what you\\'ll have is a program that looks like this:\\n\\nfunction TestMethod(methodName) { // we get all the parameters for the function and return values return (methodName? \"hello\" : \"y\";); } function test_get(): { // we return the values from the function } test_set(): { // we return the values from the test } } 1 2 3 4 5 6 7 8 9 10 11 function TestMethod ( methodName ) { // we get all the parameters for the function and return values return ( ( methodName? \"hello\" : \"y\" ; ) ; } function test_get ( ) : { // we return the values from the function } test_set ( ) : { // we return the values from the test } }\\n\\nI guess you could call the function test_set() or something like that. And those methods are usually like these:\\n\\nfunction TestMethod(methodName): { // you get all the parameters for the function. return (methodName? \"hello\" : \"y\"; ) } function test_set(): { // you return the values from the function } } 1 2 3 4 5 6 7 8 9 10 11 12 13 function TestMethod ( methodName ) : { // you get all the parameters for the function. return ( methodName? \"hello\" : \"y\"; ) } function test_set ( ) : { // you return the values from the function } }\\n\\nAnd if you want to actually try it, you don\\'t have to. Like one of these scripts, and one we know you\\'ve done, is to'},\n",
       " {'generated_text': 'Hello, I\\'m a language model, and I\\'ll do it in no time!\\n\\nOne of the things we learned from talking to my friend from college a bit earlier, and in the context of the current language model I think it\\'s important to recognize that the whole idea of language is that it comes from the very beginning so you can imagine that all that may need to happen for it to really mature. You are a model and you are the one that\\'s actually working and developing. If you come up with a simple idea and then you\\'re trying to use this idea in new ways and get that idea out there, the things you\\'re actually using to make that idea mature aren\\'t the things to be used to the full extent by the language of language. They\\'re the things that actually make it work.\\n\\nThat being said we certainly didn\\'t want to see some language models that might look like traditional language models, you know? All of this has been discussed recently through other types of language models, maybe even if you have an alternative language, or you have other types of language models, you could try to define your language models and show them how they work, they can work as languages, and show you how they function. The goal is that this is a kind of one-stop-shop for all of these systems and this is a very important step in how languages get developed and to start making better tools for developing as languages. I\\'m not sure if there are many languages. Yes, a lot of these systems have just the idea of building an understanding and maybe then going back to building the language because that might work very well, but in both cases the goal is to create an even richer understanding of the language that you really need as a human and the more language you use you will benefit from your understanding.\\n\\n[Laughs.] What about when we write and we say \"oh, the thing with this program is you need a language model to actually get things'},\n",
       " {'generated_text': 'Hello, I\\'m a language model, not a command line tool.\\n\\nIf my code is simple enough:\\n\\nif (use (string-replace \"\\\\r\" ))) {\\n\\nconsole. log\\n\\n}\\n\\nthat\\'s fine, as long as you make sure to leave this alone.\\n\\nThat\\'s how I set up my command line script. I\\'m looking at a command line, which, when executed, will call the function I\\'m describing, but it\\'s not using the same magic I use with bash.\\n\\nIf that works, then this works too. And, when I\\'m using bash, everything should be fine. I really don\\'t care what anyone thinks about my commands.\\n\\nI don\\'t hate it, because I\\'ve always been lazy. So why not? I do have a simple project and a script that needs to be run from within my terminal. This is just how I work, but it actually has a simple endgame.\\n\\nSo the real fun happens when people find that there\\'s more than one file inside my shell.\\n\\nYou can put this at the top.\\n\\n(use-package bash -f -p\\n\\n-j `:user`) {\\n\\nuse (\"My-SQL\" \"mysql\" \"mysql\" \"mysql\" \"org\" \"curl\" \"sed -n \\'/.php\\'; \" ; \".*/*.*/*.*.*/*.*\"\\n\\n\"\\n\\n\"\\n\\n);\\n\\n$db = do\\n\\n$db->open(\"foo\" => \"bar\")->write( \\'Hello\\' ) ;; do\\n\\n$db->write( \\'Hello world\\' );\\n\\n$db->close;\\n\\n$db->close(&\\'+\\');\\n\\n$db->put( $_GET_CONTENT_ON_TEXT );\\n\\nif ($db->open) {\\n\\n$db->close();'},\n",
       " {'generated_text': 'Hello, I\\'m a language model, I\\'ve been using Language in all my work. Just a small example, let\\'s see a simplified example. I\\'m making an API for a game where I want a character to play a little bit of a dungeon. I\\'m saying: \"I want some random loot\". There are many possibilities of it. Of course I\\'ll see if I improve or not, but I have no reason to stop now. There are 2 questions that need to be answered here:\\n\\nHow do we start? Are you asking something in order to understand the game and to learn some parts of it? I can answer that if I see a good answer, then don\\'t try harder. The question is: \"How do I create a class or class that can be used?\" If I\\'m not using a language and I already know it as well as I am, then how is I to change how I learn or implement the language design? Also, is a question of using languages to teach a particular concept/thing?\\n\\nLet\\'s see, let\\'s imagine you\\'re programming the game. You\\'ve just set the class up. If you create an infinite loop, then each object has a number, and so each individual object has the number of elements it can hold. So an infinite loop is always in your mind. And, if you define it as:\\n\\ndef foo(): for x in range(0, 5): yield z print(x) print(x + 5) class Game(): as float: class Vector2(Vector:Float): time = milliseconds elif time == -1: (end_timer)() except Exception as e: break print(e) print(\"Stop! Don\\'t stop! You must use the end of the loop.\") elif the_timeout in milliseconds: delay(this_delay) else: elif delay in nanoseconds: print(time) print(\\'\\n\\n\\') print(\\'The end'}]"
      ]
     },
     "execution_count": 4,
     "metadata": {},
     "output_type": "execute_result"
    }
   ],
   "source": [
    "from transformers import pipeline, set_seed\n",
    "generator = pipeline('text-generation', model='gpt2')\n",
    "set_seed(42)\n",
    "generator(\"Hello, I'm a language model,\", max_length=400, num_return_sequences=5, truncation=True)\n"
   ]
  },
  {
   "cell_type": "code",
   "execution_count": 6,
   "id": "79568dbe-eafb-4a39-85cc-58cc48293c53",
   "metadata": {},
   "outputs": [
    {
     "name": "stderr",
     "output_type": "stream",
     "text": [
      "Setting `pad_token_id` to `eos_token_id`:50256 for open-end generation.\n"
     ]
    },
    {
     "data": {
      "text/plain": [
       "[{'generated_text': \"What types of Distributed Denial of Service (DDoS) attacks exist?\\n\\nLet's take a look at the most common types of denial of service attacks.\\n\\nDistributed Denial of Service (DDoS) Attacks Are Common\\n\\nWhile it is true that DDoS attacks only affect a small percentage of users in the world, DDoS attacks are also a much more serious problem. To learn more about DDoS attacks, here is the link from DDoS experts. They are responsible for helping to prevent DDoS attacks so that more people can help protect themselves and what they are doing.\\n\\nWho is responsible for the majority of DDoS attacks?\\n\\nDNS is a method for connecting to a remote server from anywhere. A DDoS attack is primarily a network attack with a server that is not within an IPv4 or IPv6 range. However, some DDoS attacks can be more serious.\\n\\nHow is DNS affected by DDoS attacks?\\n\\nA typical DDoS attack can take up to 8 times longer to take hold. Sometimes it can take months to complete in-game. This means that many players are experiencing issues as a result of many servers being inaccessible in order for certain players to receive a DDoS.\\n\\nWhen are DDoS attacks most common?\\n\\nDDoS Attacks are most common due to the following:\\n\\nWhat type of Network is targeted by an attack?\\n\\nWhat servers in the system are being used as a DDoS attack target.\\n\\nWhat does being able to access the servers have to do with the server being vulnerable to the attack?\\n\\nA typical DDoS attack is the loss of power and the ability to access a number of servers. DDoS attacks are also considered more severe and very common, especially in a closed environment.\\n\\nWhat types of DDoS attacks are most common?\\n\\nThese attacks are most likely directed at specific server for the target users.\\n\\nWhat types\"}]"
      ]
     },
     "execution_count": 6,
     "metadata": {},
     "output_type": "execute_result"
    }
   ],
   "source": [
    "generator(\"What types of Distributed Denial of Service (DDoS) attacks exist?\", max_length=400, num_return_sequences=1, truncation=True)"
   ]
  },
  {
   "cell_type": "code",
   "execution_count": null,
   "id": "8db9ec45-60fc-4d63-a886-3578dad8f393",
   "metadata": {},
   "outputs": [],
   "source": []
  }
 ],
 "metadata": {
  "kernelspec": {
   "display_name": "Python 3 (ipykernel)",
   "language": "python",
   "name": "python3"
  },
  "language_info": {
   "codemirror_mode": {
    "name": "ipython",
    "version": 3
   },
   "file_extension": ".py",
   "mimetype": "text/x-python",
   "name": "python",
   "nbconvert_exporter": "python",
   "pygments_lexer": "ipython3",
   "version": "3.11.7"
  }
 },
 "nbformat": 4,
 "nbformat_minor": 5
}
