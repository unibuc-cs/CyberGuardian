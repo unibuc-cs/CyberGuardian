print("hy")



for i in range(10):
    print(i*i)
    
    


print("done")




