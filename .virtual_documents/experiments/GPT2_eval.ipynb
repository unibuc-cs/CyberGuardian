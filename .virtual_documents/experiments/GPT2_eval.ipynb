





import threading

def test_func(arg1):
    print(arg1)

my_dict = {'arg1': 100, 'arg2': 200}
t = threading.Thread(target=test_func, args=(my_dict,))
t.start()
t.join()



from transformers import pipeline, set_seed
generator = pipeline('text-generation', model='gpt2')
set_seed(42)
generator("Hello, I'm a language model,", max_length=400, num_return_sequences=5, truncation=True)



generator("What types of Distributed Denial of Service (DDoS) attacks exist?", max_length=400, num_return_sequences=1, truncation=True)



