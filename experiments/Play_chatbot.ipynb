{
 "cells": [
  {
   "metadata": {},
   "cell_type": "code",
   "outputs": [],
   "execution_count": 14,
   "source": "from youtube_transcript_api import YouTubeTranscriptApi",
   "id": "22f1f7bd-32bd-483d-b9bc-6d13545ef97e"
  },
  {
   "cell_type": "code",
   "execution_count": 35,
   "id": "5cc0fc9d-52a0-4155-8ed2-9a28aee6906c",
   "metadata": {},
   "outputs": [
    {
     "name": "stdout",
     "output_type": "stream",
     "text": [
      "JoeiLuFNBc4 Hindi (auto-generated) hi True True [{'language': 'Afrikaans', 'language_code': 'af'}, {'language': 'Akan', 'language_code': 'ak'}, {'language': 'Albanian', 'language_code': 'sq'}, {'language': 'Amharic', 'language_code': 'am'}, {'language': 'Arabic', 'language_code': 'ar'}, {'language': 'Armenian', 'language_code': 'hy'}, {'language': 'Assamese', 'language_code': 'as'}, {'language': 'Aymara', 'language_code': 'ay'}, {'language': 'Azerbaijani', 'language_code': 'az'}, {'language': 'Bangla', 'language_code': 'bn'}, {'language': 'Basque', 'language_code': 'eu'}, {'language': 'Belarusian', 'language_code': 'be'}, {'language': 'Bhojpuri', 'language_code': 'bho'}, {'language': 'Bosnian', 'language_code': 'bs'}, {'language': 'Bulgarian', 'language_code': 'bg'}, {'language': 'Burmese', 'language_code': 'my'}, {'language': 'Catalan', 'language_code': 'ca'}, {'language': 'Cebuano', 'language_code': 'ceb'}, {'language': 'Chinese (Simplified)', 'language_code': 'zh-Hans'}, {'language': 'Chinese (Traditional)', 'language_code': 'zh-Hant'}, {'language': 'Corsican', 'language_code': 'co'}, {'language': 'Croatian', 'language_code': 'hr'}, {'language': 'Czech', 'language_code': 'cs'}, {'language': 'Danish', 'language_code': 'da'}, {'language': 'Divehi', 'language_code': 'dv'}, {'language': 'Dutch', 'language_code': 'nl'}, {'language': 'English', 'language_code': 'en'}, {'language': 'Esperanto', 'language_code': 'eo'}, {'language': 'Estonian', 'language_code': 'et'}, {'language': 'Ewe', 'language_code': 'ee'}, {'language': 'Filipino', 'language_code': 'fil'}, {'language': 'Finnish', 'language_code': 'fi'}, {'language': 'French', 'language_code': 'fr'}, {'language': 'Galician', 'language_code': 'gl'}, {'language': 'Ganda', 'language_code': 'lg'}, {'language': 'Georgian', 'language_code': 'ka'}, {'language': 'German', 'language_code': 'de'}, {'language': 'Greek', 'language_code': 'el'}, {'language': 'Guarani', 'language_code': 'gn'}, {'language': 'Gujarati', 'language_code': 'gu'}, {'language': 'Haitian Creole', 'language_code': 'ht'}, {'language': 'Hausa', 'language_code': 'ha'}, {'language': 'Hawaiian', 'language_code': 'haw'}, {'language': 'Hebrew', 'language_code': 'iw'}, {'language': 'Hindi', 'language_code': 'hi'}, {'language': 'Hmong', 'language_code': 'hmn'}, {'language': 'Hungarian', 'language_code': 'hu'}, {'language': 'Icelandic', 'language_code': 'is'}, {'language': 'Igbo', 'language_code': 'ig'}, {'language': 'Indonesian', 'language_code': 'id'}, {'language': 'Irish', 'language_code': 'ga'}, {'language': 'Italian', 'language_code': 'it'}, {'language': 'Japanese', 'language_code': 'ja'}, {'language': 'Javanese', 'language_code': 'jv'}, {'language': 'Kannada', 'language_code': 'kn'}, {'language': 'Kazakh', 'language_code': 'kk'}, {'language': 'Khmer', 'language_code': 'km'}, {'language': 'Kinyarwanda', 'language_code': 'rw'}, {'language': 'Korean', 'language_code': 'ko'}, {'language': 'Krio', 'language_code': 'kri'}, {'language': 'Kurdish', 'language_code': 'ku'}, {'language': 'Kyrgyz', 'language_code': 'ky'}, {'language': 'Lao', 'language_code': 'lo'}, {'language': 'Latin', 'language_code': 'la'}, {'language': 'Latvian', 'language_code': 'lv'}, {'language': 'Lingala', 'language_code': 'ln'}, {'language': 'Lithuanian', 'language_code': 'lt'}, {'language': 'Luxembourgish', 'language_code': 'lb'}, {'language': 'Macedonian', 'language_code': 'mk'}, {'language': 'Malagasy', 'language_code': 'mg'}, {'language': 'Malay', 'language_code': 'ms'}, {'language': 'Malayalam', 'language_code': 'ml'}, {'language': 'Maltese', 'language_code': 'mt'}, {'language': 'Māori', 'language_code': 'mi'}, {'language': 'Marathi', 'language_code': 'mr'}, {'language': 'Mongolian', 'language_code': 'mn'}, {'language': 'Nepali', 'language_code': 'ne'}, {'language': 'Northern Sotho', 'language_code': 'nso'}, {'language': 'Norwegian', 'language_code': 'no'}, {'language': 'Nyanja', 'language_code': 'ny'}, {'language': 'Odia', 'language_code': 'or'}, {'language': 'Oromo', 'language_code': 'om'}, {'language': 'Pashto', 'language_code': 'ps'}, {'language': 'Persian', 'language_code': 'fa'}, {'language': 'Polish', 'language_code': 'pl'}, {'language': 'Portuguese', 'language_code': 'pt'}, {'language': 'Punjabi', 'language_code': 'pa'}, {'language': 'Quechua', 'language_code': 'qu'}, {'language': 'Romanian', 'language_code': 'ro'}, {'language': 'Russian', 'language_code': 'ru'}, {'language': 'Samoan', 'language_code': 'sm'}, {'language': 'Sanskrit', 'language_code': 'sa'}, {'language': 'Scottish Gaelic', 'language_code': 'gd'}, {'language': 'Serbian', 'language_code': 'sr'}, {'language': 'Shona', 'language_code': 'sn'}, {'language': 'Sindhi', 'language_code': 'sd'}, {'language': 'Sinhala', 'language_code': 'si'}, {'language': 'Slovak', 'language_code': 'sk'}, {'language': 'Slovenian', 'language_code': 'sl'}, {'language': 'Somali', 'language_code': 'so'}, {'language': 'Southern Sotho', 'language_code': 'st'}, {'language': 'Spanish', 'language_code': 'es'}, {'language': 'Sundanese', 'language_code': 'su'}, {'language': 'Swahili', 'language_code': 'sw'}, {'language': 'Swedish', 'language_code': 'sv'}, {'language': 'Tajik', 'language_code': 'tg'}, {'language': 'Tamil', 'language_code': 'ta'}, {'language': 'Tatar', 'language_code': 'tt'}, {'language': 'Telugu', 'language_code': 'te'}, {'language': 'Thai', 'language_code': 'th'}, {'language': 'Tigrinya', 'language_code': 'ti'}, {'language': 'Tsonga', 'language_code': 'ts'}, {'language': 'Turkish', 'language_code': 'tr'}, {'language': 'Turkmen', 'language_code': 'tk'}, {'language': 'Ukrainian', 'language_code': 'uk'}, {'language': 'Urdu', 'language_code': 'ur'}, {'language': 'Uyghur', 'language_code': 'ug'}, {'language': 'Uzbek', 'language_code': 'uz'}, {'language': 'Vietnamese', 'language_code': 'vi'}, {'language': 'Welsh', 'language_code': 'cy'}, {'language': 'Western Frisian', 'language_code': 'fy'}, {'language': 'Xhosa', 'language_code': 'xh'}, {'language': 'Yiddish', 'language_code': 'yi'}, {'language': 'Yoruba', 'language_code': 'yo'}, {'language': 'Zulu', 'language_code': 'zu'}]\n",
      "[{'text': 'अजय को', 'start': 0.01, 'duration': 6.14}, {'text': 'कि अफीम चाइनीस कोट्स इस और जो हनीफ वजन', 'start': 6.91, 'duration': 6.96}, {'text': 'माइल्स बिगिंस विद ए सिंगल स्टेप अलसो', 'start': 10.99, 'duration': 6.3}, {'text': 'एग्जामिनड टो बेगिन विद थे फर्स्ट स्टेप', 'start': 13.87, 'duration': 8.81}, {'text': 'फॉलो मे सब्सक्राइब नेटवर्क सिक्योरिटी', 'start': 17.29, 'duration': 5.39}, {'text': 'लुट नेटवर्क सिक्योरिटी सब्सक्राइब नॉलेज', 'start': 23.189, 'duration': 13.87}, {'text': 'कंप्यूटर नेटवर्किंग और सब्सक्राइब', 'start': 33.34, 'duration': 9.48}, {'text': 'नेटवर्क सिक्योरिटी लॉक बेसिकली', 'start': 37.059, 'duration': 20.761}, {'text': 'इंवाल्विंग सब्सक्राइब स्कूल कंप्यूटर', 'start': 42.82, 'duration': 17.19}, {'text': 'नेटवर्किंग एंड मैथमेटिकल स्किल्स विल बे', 'start': 57.82, 'duration': 6.89}, {'text': 'ईजी फॉर यू टो अंडरस्टैंड थिंग्स इजियर टो', 'start': 60.01, 'duration': 4.7}, {'text': 'सब्सक्राइब', 'start': 65.759, 'duration': 3.831}, {'text': 'अपनी फॉर इंडियन टैक राजपूत स्टूडेंट्स हद', 'start': 66.89, 'duration': 6.06}, {'text': 'थिस कोर्स फॉर द एकेडमिक एंड प्रोफेशनल', 'start': 69.59, 'duration': 6.3}, {'text': 'ऑडिएंसेस नॉट ओनली डैम इट्स ऑल फॉर्म्स आफ', 'start': 72.95, 'duration': 5.39}, {'text': 'पैरंट्स वांट टो क्राफ्ट डेकोरेटिव', 'start': 75.89, 'duration': 6.03}, {'text': 'एग्जामिनेशंस एंड एग्जामिनेशन एंड फाइनली', 'start': 78.34, 'duration': 6.49}, {'text': 'इफ यू आर नैतिक लाकर और छुआरे साइबर', 'start': 81.92, 'duration': 5.64}, {'text': 'सिक्योरिटी आफ वेल्थ ओर यू आर साइबर', 'start': 84.83, 'duration': 7.23}, {'text': 'फॉरेंसिक यौन नेटवर्क एडमिनिस्ट्रेटर आफ', 'start': 87.56, 'duration': 6.57}, {'text': 'थिस कोर्स विल सर्टेनली हेल्प यू टो', 'start': 92.06, 'duration': 8.3}, {'text': 'अंडरस्टैंड थे बेसिक फंडामेंटल वे वांट टो', 'start': 94.13, 'duration': 13.97}, {'text': 'टॉक अबाउट सेलेब्स का नंबर वन इंटरेक्शन', 'start': 100.36, 'duration': 16.649}, {'text': 'चैप्टर नंबर टू मैथमेटिकल subscribe and', 'start': 108.1, 'duration': 8.909}, {'text': 'subscribe', 'start': 119.56, 'duration': 3.0}, {'text': 'सिगनेचर्स इंच प्लेसिस वेयर गोइंग टू सी', 'start': 126.9, 'duration': 4.62}, {'text': 'सिक्योरिटी प्रैक्टिस एंड सिस्टम', 'start': 129.66, 'duration': 4.56}, {'text': 'सिक्योरिटी एंड फाइनली इंच प्लस वन', 'start': 131.52, 'duration': 5.64}, {'text': 'प्वाइंट फॉर द ईमेल सिक्योरिटी आफ', 'start': 134.22, 'duration': 5.82}, {'text': 'सिक्योरिटी इन वेब सिक्योरिटी लिस्ट ऑफ द', 'start': 137.16, 'duration': 7.97}, {'text': 'फर्स्ट फीचर्स इंट्रोडक्शन टू द सीरीज', 'start': 140.04, 'duration': 12.69}, {'text': 'अपऑन कंपलीशन आफ लव एवरी ब्वॉय ओं नेटवर्क', 'start': 145.13, 'duration': 15.36}, {'text': 'सिक्योरिटी नंबर टू नो इंटेंशंस आफ', 'start': 152.73, 'duration': 7.76}, {'text': 'नेटवर्क सिक्योरिटी इंटरनली एंड प्लेंटी', 'start': 160.7, 'duration': 10.54}, {'text': 'आफ कंटेंपरेरी वर्ल्ड बोथ इन थे इंटरनेट', 'start': 165.69, 'duration': 19.14}, {'text': 'एंड सब्सक्राइब इंटरनेट लैपटॉप और मोबाइल', 'start': 171.24, 'duration': 15.67}, {'text': 'फोन व्हाट्सएप पर', 'start': 184.83, 'duration': 5.32}, {'text': 'अपने डेटा मस्ट कम आउट आफ्टर डिवाइस वॉटर', 'start': 186.91, 'duration': 6.84}, {'text': 'कम्स आउट आफ थे डिवाइस आईएस नॉट इन थिस', 'start': 190.15, 'duration': 6.6}, {'text': 'अलोन नो व्हेयर थे गोइंग टो बे फ्लाइंग बी', 'start': 193.75, 'duration': 6.39}, {'text': 'अल्टीमेटली रिलाइंग ओं थे इंटरनेट वह ऑफिस', 'start': 196.75, 'duration': 6.27}, {'text': 'टिकट लिविंग स्टाइल बैट्समैन शोषणविहीन', 'start': 200.14, 'duration': 6.33}, {'text': 'बोथ डाइड एंड ऑर्गेनाइज्ड ओं व्हाट बेसिस', 'start': 203.02, 'duration': 8.04}, {'text': 'आफ गोइंग टो दो विद तटस एंड सॉल्व वॉइस', 'start': 206.47, 'duration': 8.55}, {'text': 'सिक्योरिटी इस इंपॉर्टेंट इन नेटवर्क', 'start': 211.06, 'duration': 17.36}, {'text': 'सिक्योरिटी से कंप्यूटर रूस ने Bigg Boss', 'start': 215.02, 'duration': 20.97}, {'text': 'एग्जांपल इंटरनेट इंटरनेट नेटवर्क विच', 'start': 228.42, 'duration': 18.47}, {'text': 'कंटेंस एवरी वन विल डेयर अटैक यू', 'start': 235.99, 'duration': 12.97}, {'text': 'थे वार्ड्स आफ ठाकुर्स गोइंग टू ओं थे', 'start': 246.89, 'duration': 4.62}, {'text': 'इंटरनेट दिया था करौली के नाम से इस', 'start': 248.96, 'duration': 5.22}, {'text': 'क्वेश्चन आता है क्रिसमस ट्री डाटा', 'start': 251.51, 'duration': 9.47}, {'text': 'मिस्ट्री इंफ्रारेड रे अलार्म्स', 'start': 254.18, 'duration': 6.8}, {'text': 'सब्सक्राइब एंड मोड ओन्ली नो व्हाट विल', 'start': 261.49, 'duration': 10.92}, {'text': 'लॉन्च 10000 लिग गोल सेंटेंस ओन इंटरनेट', 'start': 266.51, 'duration': 16.25}, {'text': 'रियट इन थे इंटेलिजेंस एंड सब्सक्राइब', 'start': 272.41, 'duration': 12.91}, {'text': 'प्रोटेस्टिंग इन फ्रंट आफ प्रोटेक्टिंग', 'start': 282.76, 'duration': 7.78}, {'text': 'नेटवर्क एंड सिस्टम फ्रॉम अटैक टो बे', 'start': 285.32, 'duration': 16.65}, {'text': 'लॉन्चिंग वीर विक्रम 2069 सौर व नीटू इस', 'start': 290.54, 'duration': 16.36}, {'text': 'टू-डू लिस्ट शुरू करो', 'start': 301.97, 'duration': 9.64}, {'text': 'सिस्टम इट्स नॉट इन थिस award-winning 2.1', 'start': 306.9, 'duration': 8.25}, {'text': 'शानदार डाटा इज नॉट गोइंग टू द सेम टाइम', 'start': 311.61, 'duration': 17.66}, {'text': 'डाटा इज नॉट नो व्हाट डू यू डू सब्सक्राइब', 'start': 315.15, 'duration': 14.12}, {'text': 'सब्सक्राइब इंटरनेट इंटरनेट बैंकिंग', 'start': 329.57, 'duration': 9.81}, {'text': 'सब्सक्राइब प्लेस इन थे इंटरनेट एंड', 'start': 336.169, 'duration': 9.481}, {'text': 'इंटरनेट कंटेंस ऑल सबस्क्राइब इंटरनेट', 'start': 339.38, 'duration': 10.75}, {'text': 'इंटरनेट इंटरनेट सो वे नीड टो बे वेरी', 'start': 345.65, 'duration': 17.44}, {'text': 'केयरफुल इनफ पॉवर टू डू सब्सक्राइब बटन', 'start': 350.13, 'duration': 16.219}, {'text': 'क्लिक करें', 'start': 363.09, 'duration': 3.259}, {'text': 'वैज्ञानिक भी परफॉर्म ऑनलाइन स्वदेश में', 'start': 366.91, 'duration': 5.13}, {'text': 'भी यूजिंग थे इंटरनेट बैंकिंग और यू कैन', 'start': 369.58, 'duration': 5.07}, {'text': 'ट्रांसफॉर्म इनटू योर फ्रेंड ओवर चीफ ऑफ', 'start': 372.04, 'duration': 5.43}, {'text': 'विच प्रोवाइडेड यू पर बैंक एनकाउंटर', 'start': 374.65, 'duration': 5.46}, {'text': 'इंटरनेट इस इंवोल्व ड्यूरिंग थिस ऑनलाइन', 'start': 377.47, 'duration': 5.04}, {'text': 'ट्रांसफर पीर वांट टो गिव और कॉन्फिडेंशल', 'start': 380.11, 'duration': 5.22}, {'text': 'इन्फर्मेशन लाइक और पास वर्ष में वीआईपी', 'start': 382.51, 'duration': 5.18}, {'text': 'नंबर्स और एनी अदर कॉन्फिडेंशल इन्फर्मेशन', 'start': 385.33, 'duration': 5.31}, {'text': 'जस्ट इमेजिन निर्दय सेंट टो थे इंटरनेट', 'start': 387.69, 'duration': 5.5}, {'text': 'जस्ट लाइक थिस एंड इमीडीएटली स्नो', 'start': 390.64, 'duration': 4.89}, {'text': 'एनक्रिप्शन प्रोवाइडेड टो थे डाटा से पर', 'start': 393.19, 'duration': 4.5}, {'text': 'एग्जांपल आफ और पासवर्ड इस हेलो वन टू', 'start': 395.53, 'duration': 4.83}, {'text': 'थ्री एंड यूज दिस हेलो वन टू थ्री सेंड आप', 'start': 397.69, 'duration': 5.49}, {'text': 'सर्च ऑनलाइन इंटरनेट एंड सक्सेस टीशर्ट', 'start': 400.36, 'duration': 5.19}, {'text': 'इन्फॉर्मेशन लेटर हे कैन इनीशिएट ए न्यू', 'start': 403.18, 'duration': 4.95}, {'text': 'ट्रांसलेशन लड़कियों को स्विच ऑफ', 'start': 405.55, 'duration': 4.16}, {'text': 'इंपोर्टेंट एलिमेंट्स', 'start': 408.13, 'duration': 4.7}, {'text': 'में अकाउंट दिशा कर्मनिष्ठ न्यूट्रल पर्सन', 'start': 409.71, 'duration': 6.18}, {'text': 'लाइक यू नॉट ओनली डाट आकस्मिक फॉर', 'start': 412.83, 'duration': 5.43}, {'text': 'कॉन्वर्सेशन देश चीन और कॉन्फिडेंशल', 'start': 415.89, 'duration': 5.13}, {'text': 'इन्फर्मेशन एंड ठे कैन इवन इंप्रिजनड थम', 'start': 418.26, 'duration': 4.62}, {'text': 'आफ्टर स्टीलिंग और कॉन्फिडेंशल इन्फर्मेशन', 'start': 421.02, 'duration': 4.17}, {'text': 'दे में इवन इनीशिएट ए न्यू ट्रांसलेशन', 'start': 422.88, 'duration': 4.71}, {'text': 'प्रिटेंडिंग टो बे ट्रांसफॉर्म्ड थे', 'start': 425.19, 'duration': 5.55}, {'text': 'लेजिटीमेट पर्सन नॉट ओनली थे स्टेट ह्यूमन', 'start': 427.59, 'duration': 7.02}, {'text': 'आता क्रिएटिव व शेयर डिस्ट्रॉयज लाइक', 'start': 430.74, 'duration': 6.12}, {'text': 'प्रिटेंडिंग ओरिजिनल बैंकिंग सेवंथ पे फॉर', 'start': 434.61, 'duration': 5.33}, {'text': 'एग्जांपल शोल्डर्स पैंटिन सर्वर नेम इज', 'start': 436.86, 'duration': 6.42}, {'text': 'www.facebook.com व्यक्ति डिस्प्लेसिंग', 'start': 439.94, 'duration': 6.04}, {'text': 'असर और इंटरनेट एंड वार्ड्स आफ ठाकुर्स', 'start': 443.28, 'duration': 5.25}, {'text': 'गोइंग टू इज गोइंग टो एडवरटाइज ओं थिस', 'start': 445.98, 'duration': 5.28}, {'text': 'वर्ल्ड इन द नेम ऑफ विश्व बैंक डॉट कॉम', 'start': 448.53, 'duration': 5.31}, {'text': 'लिए यू रिसिविंग थिस e-mail सेंड्स आईटी', 'start': 451.26, 'duration': 5.61}, {'text': 'टो डाइजेस्ट कर अंजू सीरीज अकॉर्डिंग थिस', 'start': 453.84, 'duration': 7.26}, {'text': 'विंटर टाइटिल www.com एंड व्हाट इस योर', 'start': 456.87, 'duration': 6.39}, {'text': 'कॉन्टैक्ट डीटेल्स विल नॉट बे गोइंग टू', 'start': 461.1, 'duration': 5.01}, {'text': 'मेक bank.com राधे रूबी को इनटू थिस', 'start': 463.26, 'duration': 5.25}, {'text': 'वेबसाइट बट व्हाट इस यू स्टॉप गिविंग और', 'start': 466.11, 'duration': 3.61}, {'text': 'कॉन्फिडेंशल इन्फर्मेशन', 'start': 468.51, 'duration': 4.78}, {'text': 'शीघ्र गौन इट्स नॉट बीन कैप्चरड बाय नेसो', 'start': 469.72, 'duration': 6.66}, {'text': 'bang.com सर्विस लेजिटीमेट सिर और आधे', 'start': 473.29, 'duration': 5.64}, {'text': 'मिनट बैंक अकाउंट बाई द बोगस वर्ल्ड इट्स', 'start': 476.38, 'duration': 7.38}, {'text': 'ट्रू * डाटा कर दाताओं को टेंशन एग्जांपल', 'start': 478.93, 'duration': 7.65}, {'text': 'आफ फिशिंग अटैक पर डोंट वरी अबाउट टर्म्स', 'start': 483.76, 'duration': 5.13}, {'text': 'फिशिंग अटैक ओर एनी अदरक सिर्फ event0', 'start': 486.58, 'duration': 6.12}, {'text': 'गोइंग टो डिफाई नोट आफ थिस सब्जेक्ट बट', 'start': 488.89, 'duration': 6.12}, {'text': 'एनी वे नीड टो बे वेरी केयरफुल अबाउट', 'start': 492.7, 'duration': 4.89}, {'text': 'बीइंग अटैक्ड फॉर हिस कंप्यूटर', 'start': 495.01, 'duration': 6.47}, {'text': 'प्रोफेशनल्स विद नॉट ए विक्टिम आफ एनी', 'start': 497.59, 'duration': 6.96}, {'text': 'प्लेस टो प्रोटेक्ट योरसेल्फ फर्स्ट ऑलवेज', 'start': 501.48, 'duration': 7.33}, {'text': 'रिमेंबर प्रिवेंशन एंड लॉट्स लॉट्स आफ', 'start': 504.55, 'duration': 8.39}, {'text': 'अटैक ओं थे इंटरनेट एवरीडे टो प्रोटेक्ट', 'start': 508.81, 'duration': 7.55}, {'text': 'मे प्रोटेक्ट मे फ्रॉम अटैक टो', 'start': 512.94, 'duration': 7.15}, {'text': 'प्रोटेक्टिंग फ्रॉम प्रोटेस्टिंग कंप्यूटर', 'start': 516.36, 'duration': 11.52}, {'text': 'देता सब्सक्राइब इंपॉर्टेंट मीटिंग', 'start': 520.09, 'duration': 9.9}, {'text': 'असेंबली सॉफ्टवेयर', 'start': 527.88, 'duration': 6.259}, {'text': 'क्वेश्चंस वायरस मॉम स्पाइडर साउथ वेल्स', 'start': 529.99, 'duration': 8.14}, {'text': 'रूट किड्स रैनसमवेयर कि लोग अ संत मलिक', 'start': 534.139, 'duration': 7.111}, {'text': 'शाह सॉफ्टवेयर्स सोम वॉटर इनटू सेवरल दर', 'start': 538.13, 'duration': 6.569}, {'text': 'स्टेट सिक्योरिटी इज नॉट ओनली नीडल पर्सनल', 'start': 541.25, 'duration': 5.88}, {'text': 'लाइफ बट अलसो इन हर कंप्यूटर लाइफ', 'start': 544.699, 'duration': 6.69}, {'text': 'प्रोसेसेस विलियम मस्ट फॉर एनी स्पेसिफिक', 'start': 547.13, 'duration': 8.91}, {'text': 'जो डील विद जस्ट इन केस यू यू यू यू यू यू', 'start': 551.389, 'duration': 11.101}, {'text': 'यू यू ऑल द बेस्ट सिक्योरिटी लेवल इन', 'start': 556.04, 'duration': 13.89}, {'text': 'ऑर्डर टो प्रोटेक्ट योर डाटा इज द', 'start': 562.49, 'duration': 15.77}, {'text': 'कंप्यूटर लैब्स के इंटरनेट इंटरनेट', 'start': 569.93, 'duration': 8.33}, {'text': 'इंटरनेट सब्सक्राइब कंप्यूटर सिस्टम इन', 'start': 578.86, 'duration': 10.85}, {'text': 'एवरी डे', 'start': 587.98, 'duration': 5.57}, {'text': 'क्विड मस्ती प्रोटेक्टर अंडा सिक्यॉर लव', 'start': 589.71, 'duration': 5.93}, {'text': 'यू वांट टो टर्न ए नेटवर्क सिक्योरिटी', 'start': 593.55, 'duration': 5.43}, {'text': 'फीचर्स इन योर एंड योर लाइफ इन वैरीयस', 'start': 595.64, 'duration': 10.78}, {'text': 'इंटरनेशनल ऑफ योरसेल्फ थैंक यू फॉर वाचिंग', 'start': 598.98, 'duration': 9.63}, {'text': '[प्रशंसा]', 'start': 606.42, 'duration': 9.56}, {'text': '[संगीत]', 'start': 608.61, 'duration': 10.37}, {'text': 'अ', 'start': 615.98, 'duration': 3.0}]\n",
      "[]\n"
     ]
    },
    {
     "data": {
      "text/plain": [
       "'\\n# you can also directly filter for the language you are\\n# looking for, using the transcript list\\ntranscript = transcript_list.find_transcript([\\'en\\'])\\n\\n# or just filter for manually created transcripts\\ntranscript = transcript_list.find_manually_created_transcript([\\'en\\'])\\n\\n# importing modules\\nfrom youtube_transcript_api import YouTubeTranscriptApi\\n\\n# using the srt variable with the list of dictionaries\\n# obtained by the .get_transcript() function\\nsrt = YouTubeTranscriptApi.get_transcript(\"pxiP-HJLCx0\")\\n\\n# creating or overwriting a file \"subtitles.txt\" with\\n# the info inside the context manager\\nwith open(\"subtitles.txt\", \"w\") as f:\\n\\n        # iterating through each element of list srt\\n    for i in srt:\\n        # writing each element of srt on a new line\\n        f.write(\"{}\\n\".format(i))\\n'"
      ]
     },
     "execution_count": 35,
     "metadata": {},
     "output_type": "execute_result"
    }
   ],
   "source": [
    "video_id=\"JoeiLuFNBc4\"\n",
    "transcript_list = YouTubeTranscriptApi.list_transcripts(video_id)\n",
    "#YouTubeTranscriptApi.get_transcript(video_id)\n",
    "# iterate over all available transcripts\n",
    "for transcript in transcript_list:\n",
    "    \n",
    "    # the Transcript object provides metadata\n",
    "    # properties\n",
    "    print(\n",
    "        transcript.video_id,\n",
    "        transcript.language,\n",
    "        transcript.language_code,\n",
    "    \n",
    "        # whether it has been manually created or\n",
    "        # generated by YouTube\n",
    "        transcript.is_generated,\n",
    "        \n",
    "        # whether this transcript can be translated\n",
    "        # or not\n",
    "        transcript.is_translatable,\n",
    "        \n",
    "        # a list of languages the transcript can be\n",
    "        # translated to\n",
    "        transcript.translation_languages,\n",
    "    )\n",
    "\n",
    "    # fetch the actual transcript data\n",
    "    \n",
    "    \n",
    "    print(transcript.fetch())\n",
    "    # translating the transcript will return another\n",
    "    # transcript object\n",
    "    print(transcript.translate('en').fetch())\n",
    "\n",
    "\"\"\"\n",
    "# you can also directly filter for the language you are\n",
    "# looking for, using the transcript list\n",
    "transcript = transcript_list.find_transcript(['en'])\n",
    "\n",
    "# or just filter for manually created transcripts\n",
    "transcript = transcript_list.find_manually_created_transcript(['en'])\n",
    "\n",
    "# importing modules\n",
    "from youtube_transcript_api import YouTubeTranscriptApi\n",
    "\n",
    "# using the srt variable with the list of dictionaries\n",
    "# obtained by the .get_transcript() function\n",
    "srt = YouTubeTranscriptApi.get_transcript(\"pxiP-HJLCx0\")\n",
    "\n",
    "# creating or overwriting a file \"subtitles.txt\" with\n",
    "# the info inside the context manager\n",
    "with open(\"subtitles.txt\", \"w\") as f:\n",
    "\n",
    "        # iterating through each element of list srt\n",
    "    for i in srt:\n",
    "        # writing each element of srt on a new line\n",
    "        f.write(\"{}\\n\".format(i))\n",
    "\"\"\""
   ]
  },
  {
   "cell_type": "code",
   "execution_count": 24,
   "id": "18c9d687-7987-432b-a138-b2bf854cfc83",
   "metadata": {},
   "outputs": [
    {
     "name": "stdout",
     "output_type": "stream",
     "text": [
      "[]\n"
     ]
    }
   ],
   "source": [
    "transcript_list = YouTubeTranscriptApi.list_transcripts(video_id)\n",
    "for transcript in transcript_list:\n",
    "    transcript_fulltxt = transcript.translate('en').fetch()\n",
    "    print(transcript_fulltxt)"
   ]
  },
  {
   "cell_type": "code",
   "execution_count": 1,
   "id": "f5dc6294-d7b8-49f6-baf5-21f0a40b1561",
   "metadata": {},
   "outputs": [],
   "source": [
    "from tqdm import tqdm"
   ]
  },
  {
   "cell_type": "code",
   "execution_count": 2,
   "id": "efe82650-be4c-4f90-9927-6fefd1717c12",
   "metadata": {},
   "outputs": [],
   "source": [
    "L = [10]*1000000"
   ]
  },
  {
   "cell_type": "code",
   "execution_count": 4,
   "id": "3533db5c-0907-4176-a8ae-f2f3b358ac26",
   "metadata": {},
   "outputs": [
    {
     "name": "stderr",
     "output_type": "stream",
     "text": [
      "100%|████████████████████████████████████████████████████████████| 1000000/1000000 [00:00<00:00, 9067491.06it/s]\n"
     ]
    }
   ],
   "source": [
    "for i in tqdm(L):\n",
    "    k = L[i]"
   ]
  },
  {
   "cell_type": "code",
   "execution_count": 5,
   "id": "8bb23c18-827e-4d75-a2f8-676e455eb62b",
   "metadata": {},
   "outputs": [
    {
     "data": {
      "text/plain": [
       "dict"
      ]
     },
     "execution_count": 5,
     "metadata": {},
     "output_type": "execute_result"
    }
   ],
   "source": [
    "import json\n",
    "\n",
    "r = {'is_claimed': 'True', 'rating': 3.5}\n",
    "r = json.dumps(r)\n",
    "loaded_r = json.loads(r)\n",
    "loaded_r['rating'] #Output 3.5\n",
    "type(r) #Output str\n",
    "type(loaded_r) #Output dict"
   ]
  },
  {
   "cell_type": "code",
   "execution_count": 11,
   "id": "a643653d-835a-4132-b0d7-37b891e55eee",
   "metadata": {},
   "outputs": [],
   "source": [
    "r = {'is_claimed': 'True', 'rating': 3.5}\n",
    "r2 = r.copy()\n",
    "r2['metadata'] = {'a' : 1, 'aa' : 32}\n"
   ]
  },
  {
   "cell_type": "code",
   "execution_count": 12,
   "id": "a8b193ee-2f84-4a91-8c3a-571dfccc76fe",
   "metadata": {},
   "outputs": [
    {
     "data": {
      "text/plain": [
       "{'is_claimed': 'True', 'rating': 3.5, 'metadata': {'a': 1, 'aa': 32}}"
      ]
     },
     "execution_count": 12,
     "metadata": {},
     "output_type": "execute_result"
    }
   ],
   "source": [
    "r2"
   ]
  },
  {
   "cell_type": "code",
   "execution_count": 13,
   "id": "6c9f3c5b-aa04-46b6-8f20-cc7b1778685c",
   "metadata": {},
   "outputs": [
    {
     "data": {
      "text/plain": [
       "{'is_claimed': 'True', 'rating': 3.5}"
      ]
     },
     "execution_count": 13,
     "metadata": {},
     "output_type": "execute_result"
    }
   ],
   "source": [
    "r"
   ]
  },
  {
   "cell_type": "code",
   "execution_count": 36,
   "id": "678a58c2-498f-419c-a44e-d95cb5d7a3a4",
   "metadata": {},
   "outputs": [],
   "source": [
    "key_set = r2"
   ]
  },
  {
   "cell_type": "code",
   "execution_count": 37,
   "id": "4454b4b0-f56e-4564-9761-83e896be34d3",
   "metadata": {},
   "outputs": [],
   "source": [
    "translatable_languages = ['German',\n",
    "'Spanish',\n",
    "'Italian',\n",
    "'Roma',\n",
    "'Romanian',\n",
    "'Russian',\n",
    "'Dutch',\n",
    "'Danish']"
   ]
  },
  {
   "cell_type": "code",
   "execution_count": 38,
   "id": "6fdefe36-3ef1-42ba-b541-145f3bdc2da2",
   "metadata": {},
   "outputs": [
    {
     "data": {
      "text/plain": [
       "True"
      ]
     },
     "execution_count": 38,
     "metadata": {},
     "output_type": "execute_result"
    }
   ],
   "source": [
    "\"German\" in translatable_languages"
   ]
  },
  {
   "cell_type": "code",
   "execution_count": null,
   "id": "3c61a0f4-faf3-4c04-a683-98b9dec98257",
   "metadata": {},
   "outputs": [],
   "source": []
  }
 ],
 "metadata": {
  "kernelspec": {
   "display_name": "Python 3 (ipykernel)",
   "language": "python",
   "name": "python3"
  },
  "language_info": {
   "codemirror_mode": {
    "name": "ipython",
    "version": 3
   },
   "file_extension": ".py",
   "mimetype": "text/x-python",
   "name": "python",
   "nbconvert_exporter": "python",
   "pygments_lexer": "ipython3",
   "version": "3.11.7"
  }
 },
 "nbformat": 4,
 "nbformat_minor": 5
}
