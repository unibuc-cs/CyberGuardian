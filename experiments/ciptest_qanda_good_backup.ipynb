{
 "cells": [
  {
   "cell_type": "code",
   "execution_count": null,
   "id": "67b7eef9-23a4-430a-bc89-d3002293e276",
   "metadata": {
    "tags": [],
    "is_executing": true
   },
   "outputs": [],
   "source": [
    "import secrets\n",
    "import json\n",
    "from pathlib import Path\n",
    "import pprint\n",
    "import pdb\n",
    "from typing import Any\n",
    "\n",
    "from etl import markdown, pdfs, shared, videos\n",
    "\n",
    "import docstore\n",
    "import vecstore\n",
    "from utils import pretty_log\n",
    "\n",
    "pp = pprint.PrettyPrinter(indent=2)\n",
    "\n",
    "import torch\n",
    "import transformers\n",
    "from transformers import AutoTokenizer, AutoModelForCausalLM\n",
    "from transformers import pipeline, TextStreamer\n",
    "import json\n",
    "import textwrap\n",
    "from langchain.llms.huggingface_pipeline import HuggingFacePipeline\n",
    "from langchain.prompts import PromptTemplate\n",
    "from langchain.chains import LLMChain, RetrievalQA\n",
    "from langchain.memory import ConversationBufferMemory\n",
    "import langchain\n",
    "import time\n",
    "\n",
    "from langchain.chains.conversational_retrieval.prompts import CONDENSE_QUESTION_PROMPT\n",
    "from langchain.chains.qa_with_sources.loading import load_qa_with_sources_chain\n",
    "from langchain.chains.conversational_retrieval.base import ConversationalRetrievalChain\n",
    "\n",
    "\n",
    "%load_ext autoreload\n",
    "from QuestionAndAnswerUtils import *"
   ]
  },
  {
   "cell_type": "code",
   "execution_count": null,
   "id": "9b544796-7749-4ab5-888d-476eb2feb652",
   "metadata": {
    "tags": [],
    "is_executing": true
   },
   "outputs": [],
   "source": [
    "securityChatbot = QuestionAndAnsweringCustomLlama3(QuestionRewritingPrompt=QUESTION_REWRITING_TYPE.QUESTION_REWRITING_DEFAULT,\n",
    "                                 QuestionAnsweringPrompt=SECURITY_PROMPT_TYPE.PROMPT_TYPE_SECURITY_OFFICER_WITH_RAG_MEMORY_NOSOURCES,\n",
    "                                 ModelType=LLAMA3_VERSION_TYPE.LLAMA3_7B_chat,\n",
    "                                debug=True)\n",
    "\n",
    "test_vectorDatasets_similarityScores_and_responses_no_memory(run_llm_chain=False)\n",
    "\n",
    "start=time.time()\n",
    "\n",
    "securityChatbot.ask_question(\"What models use human instructions?\")\n",
    "securityChatbot.ask_question(\"Which are the advantage of each of these models?\")\n",
    "securityChatbot.ask_question(\"What are the downsides of your last model suggested above ?\")\n",
    "\n",
    "\n",
    "\n",
    "securityChatbot.ask_question(\"Give me some indications to solve a denial of service attack.\")\n",
    "securityChatbot.ask_question(\"Give me a few tools for this please\")\n",
    "securityChatbot.ask_question(\"Which one works best on Windows machines?\")\n",
    "\n",
    "end=time.time()\n",
    "\n",
    "print(f\"Total time: {end-start}\")"
   ]
  }
 ],
 "metadata": {
  "kernelspec": {
   "display_name": "Python 3 (ipykernel)",
   "language": "python",
   "name": "python3"
  },
  "language_info": {
   "codemirror_mode": {
    "name": "ipython",
    "version": 3
   },
   "file_extension": ".py",
   "mimetype": "text/x-python",
   "name": "python",
   "nbconvert_exporter": "python",
   "pygments_lexer": "ipython3",
   "version": "3.11.5"
  }
 },
 "nbformat": 4,
 "nbformat_minor": 5
}
